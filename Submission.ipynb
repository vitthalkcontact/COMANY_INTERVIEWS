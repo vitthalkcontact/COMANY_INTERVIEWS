{
 "cells": [
  {
   "cell_type": "markdown",
   "metadata": {},
   "source": [
    "# JP Morgan Quant Challenge : ML"
   ]
  },
  {
   "cell_type": "markdown",
   "metadata": {},
   "source": [
    "**(Caution- this file takes a long time to run as it involves grid search over parameters for cross validation)**"
   ]
  },
  {
   "cell_type": "code",
   "execution_count": 3,
   "metadata": {},
   "outputs": [],
   "source": [
    "import pandas as pd\n",
    "import numpy as np\n",
    "import seaborn as sns\n",
    "import matplotlib.pyplot as plt\n",
    "%matplotlib inline"
   ]
  },
  {
   "cell_type": "code",
   "execution_count": 2,
   "metadata": {
    "collapsed": true
   },
   "outputs": [],
   "source": [
    "#Read Train and Test Data (stored in current directory)\n",
    "train, test = pd.read_csv('train.csv'), pd.read_csv('test.csv')"
   ]
  },
  {
   "cell_type": "code",
   "execution_count": 3,
   "metadata": {},
   "outputs": [
    {
     "name": "stdout",
     "output_type": "stream",
     "text": [
      "Shape of Train data: (7500, 9)\n",
      "Shape of Test data: (2500, 8)\n"
     ]
    }
   ],
   "source": [
    "print('Shape of Train data:', train.shape)\n",
    "print('Shape of Test data:', test.shape)"
   ]
  },
  {
   "cell_type": "code",
   "execution_count": 4,
   "metadata": {},
   "outputs": [
    {
     "data": {
      "text/html": [
       "<div>\n",
       "<style>\n",
       "    .dataframe thead tr:only-child th {\n",
       "        text-align: right;\n",
       "    }\n",
       "\n",
       "    .dataframe thead th {\n",
       "        text-align: left;\n",
       "    }\n",
       "\n",
       "    .dataframe tbody tr th {\n",
       "        vertical-align: top;\n",
       "    }\n",
       "</style>\n",
       "<table border=\"1\" class=\"dataframe\">\n",
       "  <thead>\n",
       "    <tr style=\"text-align: right;\">\n",
       "      <th></th>\n",
       "      <th>Name</th>\n",
       "      <th>Date of Birth</th>\n",
       "      <th>From</th>\n",
       "      <th>To</th>\n",
       "      <th>Flight Date</th>\n",
       "      <th>Flight Time</th>\n",
       "      <th>Booking Date</th>\n",
       "      <th>Class</th>\n",
       "      <th>Fare</th>\n",
       "    </tr>\n",
       "  </thead>\n",
       "  <tbody>\n",
       "    <tr>\n",
       "      <th>0</th>\n",
       "      <td>Dr. FG61 FS88</td>\n",
       "      <td>1963-10-23</td>\n",
       "      <td>Mumbai</td>\n",
       "      <td>Kolkata</td>\n",
       "      <td>2016-11-04</td>\n",
       "      <td>13:50</td>\n",
       "      <td>2016-10-19</td>\n",
       "      <td>Business</td>\n",
       "      <td>14737.67</td>\n",
       "    </tr>\n",
       "    <tr>\n",
       "      <th>1</th>\n",
       "      <td>Dr. FG35 FS74</td>\n",
       "      <td>1981-10-09</td>\n",
       "      <td>Lucknow</td>\n",
       "      <td>Hyderabad</td>\n",
       "      <td>2016-09-19</td>\n",
       "      <td>18:30</td>\n",
       "      <td>2016-07-31</td>\n",
       "      <td>Economy</td>\n",
       "      <td>7621.71</td>\n",
       "    </tr>\n",
       "    <tr>\n",
       "      <th>2</th>\n",
       "      <td>Dr. MG45 MS99</td>\n",
       "      <td>1981-07-09</td>\n",
       "      <td>Lucknow</td>\n",
       "      <td>Patna</td>\n",
       "      <td>2016-05-27</td>\n",
       "      <td>10:50</td>\n",
       "      <td>2016-05-24</td>\n",
       "      <td>Economy</td>\n",
       "      <td>5655.81</td>\n",
       "    </tr>\n",
       "    <tr>\n",
       "      <th>3</th>\n",
       "      <td>Mr. MG93 MS13</td>\n",
       "      <td>1988-09-08</td>\n",
       "      <td>Mumbai</td>\n",
       "      <td>Lucknow</td>\n",
       "      <td>2016-07-24</td>\n",
       "      <td>14:40</td>\n",
       "      <td>2016-07-16</td>\n",
       "      <td>Economy</td>\n",
       "      <td>7436.94</td>\n",
       "    </tr>\n",
       "    <tr>\n",
       "      <th>4</th>\n",
       "      <td>Miss FG28 FS14</td>\n",
       "      <td>1994-11-18</td>\n",
       "      <td>Kolkata</td>\n",
       "      <td>Delhi</td>\n",
       "      <td>2016-12-21</td>\n",
       "      <td>10:20</td>\n",
       "      <td>2016-12-09</td>\n",
       "      <td>Economy</td>\n",
       "      <td>3282.54</td>\n",
       "    </tr>\n",
       "  </tbody>\n",
       "</table>\n",
       "</div>"
      ],
      "text/plain": [
       "             Name Date of Birth     From         To Flight Date Flight Time  \\\n",
       "0   Dr. FG61 FS88    1963-10-23   Mumbai    Kolkata  2016-11-04       13:50   \n",
       "1   Dr. FG35 FS74    1981-10-09  Lucknow  Hyderabad  2016-09-19       18:30   \n",
       "2   Dr. MG45 MS99    1981-07-09  Lucknow      Patna  2016-05-27       10:50   \n",
       "3   Mr. MG93 MS13    1988-09-08   Mumbai    Lucknow  2016-07-24       14:40   \n",
       "4  Miss FG28 FS14    1994-11-18  Kolkata      Delhi  2016-12-21       10:20   \n",
       "\n",
       "  Booking Date     Class      Fare  \n",
       "0   2016-10-19  Business  14737.67  \n",
       "1   2016-07-31   Economy   7621.71  \n",
       "2   2016-05-24   Economy   5655.81  \n",
       "3   2016-07-16   Economy   7436.94  \n",
       "4   2016-12-09   Economy   3282.54  "
      ]
     },
     "execution_count": 4,
     "metadata": {},
     "output_type": "execute_result"
    }
   ],
   "source": [
    "train.head()"
   ]
  },
  {
   "cell_type": "markdown",
   "metadata": {},
   "source": [
    "* 'Name' seems interesting. We observe that the names of people with the designation Miss/ Mrs. begin with 'F'. The names of people with the title Mr. begin with 'M'. So the first letter of the name must be representative of the gender of the passenger."
   ]
  },
  {
   "cell_type": "code",
   "execution_count": 5,
   "metadata": {},
   "outputs": [
    {
     "data": {
      "text/html": [
       "<div>\n",
       "<style>\n",
       "    .dataframe thead tr:only-child th {\n",
       "        text-align: right;\n",
       "    }\n",
       "\n",
       "    .dataframe thead th {\n",
       "        text-align: left;\n",
       "    }\n",
       "\n",
       "    .dataframe tbody tr th {\n",
       "        vertical-align: top;\n",
       "    }\n",
       "</style>\n",
       "<table border=\"1\" class=\"dataframe\">\n",
       "  <thead>\n",
       "    <tr style=\"text-align: right;\">\n",
       "      <th></th>\n",
       "      <th>Fare</th>\n",
       "    </tr>\n",
       "  </thead>\n",
       "  <tbody>\n",
       "    <tr>\n",
       "      <th>count</th>\n",
       "      <td>7500.000000</td>\n",
       "    </tr>\n",
       "    <tr>\n",
       "      <th>mean</th>\n",
       "      <td>8537.915123</td>\n",
       "    </tr>\n",
       "    <tr>\n",
       "      <th>std</th>\n",
       "      <td>6705.728347</td>\n",
       "    </tr>\n",
       "    <tr>\n",
       "      <th>min</th>\n",
       "      <td>1132.820000</td>\n",
       "    </tr>\n",
       "    <tr>\n",
       "      <th>25%</th>\n",
       "      <td>4278.107500</td>\n",
       "    </tr>\n",
       "    <tr>\n",
       "      <th>50%</th>\n",
       "      <td>6583.765000</td>\n",
       "    </tr>\n",
       "    <tr>\n",
       "      <th>75%</th>\n",
       "      <td>10547.300000</td>\n",
       "    </tr>\n",
       "    <tr>\n",
       "      <th>max</th>\n",
       "      <td>84141.470000</td>\n",
       "    </tr>\n",
       "  </tbody>\n",
       "</table>\n",
       "</div>"
      ],
      "text/plain": [
       "               Fare\n",
       "count   7500.000000\n",
       "mean    8537.915123\n",
       "std     6705.728347\n",
       "min     1132.820000\n",
       "25%     4278.107500\n",
       "50%     6583.765000\n",
       "75%    10547.300000\n",
       "max    84141.470000"
      ]
     },
     "execution_count": 5,
     "metadata": {},
     "output_type": "execute_result"
    }
   ],
   "source": [
    "train.describe()"
   ]
  },
  {
   "cell_type": "markdown",
   "metadata": {},
   "source": [
    "* There is only one numeric feature which is 'Fare'. So, the only numeric feature provided is the target variable."
   ]
  },
  {
   "cell_type": "code",
   "execution_count": 6,
   "metadata": {},
   "outputs": [
    {
     "data": {
      "text/plain": [
       "Name             0\n",
       "Date of Birth    0\n",
       "From             0\n",
       "To               0\n",
       "Flight Date      0\n",
       "Flight Time      0\n",
       "Booking Date     0\n",
       "Class            0\n",
       "Fare             0\n",
       "dtype: int64"
      ]
     },
     "execution_count": 6,
     "metadata": {},
     "output_type": "execute_result"
    }
   ],
   "source": [
    "train.isnull().sum()"
   ]
  },
  {
   "cell_type": "markdown",
   "metadata": {},
   "source": [
    "* There are no missing values in the training data."
   ]
  },
  {
   "cell_type": "code",
   "execution_count": 7,
   "metadata": {},
   "outputs": [
    {
     "data": {
      "text/html": [
       "<div>\n",
       "<style>\n",
       "    .dataframe thead tr:only-child th {\n",
       "        text-align: right;\n",
       "    }\n",
       "\n",
       "    .dataframe thead th {\n",
       "        text-align: left;\n",
       "    }\n",
       "\n",
       "    .dataframe tbody tr th {\n",
       "        vertical-align: top;\n",
       "    }\n",
       "</style>\n",
       "<table border=\"1\" class=\"dataframe\">\n",
       "  <thead>\n",
       "    <tr style=\"text-align: right;\">\n",
       "      <th></th>\n",
       "      <th>Name</th>\n",
       "      <th>Date of Birth</th>\n",
       "      <th>From</th>\n",
       "      <th>To</th>\n",
       "      <th>Flight Date</th>\n",
       "      <th>Flight Time</th>\n",
       "      <th>Booking Date</th>\n",
       "      <th>Class</th>\n",
       "    </tr>\n",
       "  </thead>\n",
       "  <tbody>\n",
       "    <tr>\n",
       "      <th>0</th>\n",
       "      <td>Miss FG36 FS44</td>\n",
       "      <td>2004-06-26</td>\n",
       "      <td>Delhi</td>\n",
       "      <td>Lucknow</td>\n",
       "      <td>2016-04-04</td>\n",
       "      <td>19:40</td>\n",
       "      <td>2016-02-17</td>\n",
       "      <td>Economy</td>\n",
       "    </tr>\n",
       "    <tr>\n",
       "      <th>1</th>\n",
       "      <td>Dr. MG31 MS2</td>\n",
       "      <td>1961-04-30</td>\n",
       "      <td>Lucknow</td>\n",
       "      <td>Delhi</td>\n",
       "      <td>2016-03-08</td>\n",
       "      <td>17:50</td>\n",
       "      <td>2016-01-25</td>\n",
       "      <td>Economy</td>\n",
       "    </tr>\n",
       "    <tr>\n",
       "      <th>2</th>\n",
       "      <td>Dr. FG10 FS22</td>\n",
       "      <td>1966-08-28</td>\n",
       "      <td>Lucknow</td>\n",
       "      <td>Delhi</td>\n",
       "      <td>2016-01-11</td>\n",
       "      <td>13:30</td>\n",
       "      <td>2015-12-29</td>\n",
       "      <td>Business</td>\n",
       "    </tr>\n",
       "    <tr>\n",
       "      <th>3</th>\n",
       "      <td>Dr. FG18 FS12</td>\n",
       "      <td>1958-03-22</td>\n",
       "      <td>Lucknow</td>\n",
       "      <td>Mumbai</td>\n",
       "      <td>2016-10-13</td>\n",
       "      <td>13:20</td>\n",
       "      <td>2016-09-12</td>\n",
       "      <td>Economy</td>\n",
       "    </tr>\n",
       "    <tr>\n",
       "      <th>4</th>\n",
       "      <td>Miss FG14 FS33</td>\n",
       "      <td>2000-02-01</td>\n",
       "      <td>Chennai</td>\n",
       "      <td>Delhi</td>\n",
       "      <td>2016-09-24</td>\n",
       "      <td>17:50</td>\n",
       "      <td>2016-09-03</td>\n",
       "      <td>Economy</td>\n",
       "    </tr>\n",
       "  </tbody>\n",
       "</table>\n",
       "</div>"
      ],
      "text/plain": [
       "             Name Date of Birth     From       To Flight Date Flight Time  \\\n",
       "0  Miss FG36 FS44    2004-06-26    Delhi  Lucknow  2016-04-04       19:40   \n",
       "1    Dr. MG31 MS2    1961-04-30  Lucknow    Delhi  2016-03-08       17:50   \n",
       "2   Dr. FG10 FS22    1966-08-28  Lucknow    Delhi  2016-01-11       13:30   \n",
       "3   Dr. FG18 FS12    1958-03-22  Lucknow   Mumbai  2016-10-13       13:20   \n",
       "4  Miss FG14 FS33    2000-02-01  Chennai    Delhi  2016-09-24       17:50   \n",
       "\n",
       "  Booking Date     Class  \n",
       "0   2016-02-17   Economy  \n",
       "1   2016-01-25   Economy  \n",
       "2   2015-12-29  Business  \n",
       "3   2016-09-12   Economy  \n",
       "4   2016-09-03   Economy  "
      ]
     },
     "execution_count": 7,
     "metadata": {},
     "output_type": "execute_result"
    }
   ],
   "source": [
    "test.head()"
   ]
  },
  {
   "cell_type": "code",
   "execution_count": 8,
   "metadata": {},
   "outputs": [
    {
     "data": {
      "text/plain": [
       "Name             0\n",
       "Date of Birth    0\n",
       "From             0\n",
       "To               0\n",
       "Flight Date      0\n",
       "Flight Time      0\n",
       "Booking Date     0\n",
       "Class            0\n",
       "dtype: int64"
      ]
     },
     "execution_count": 8,
     "metadata": {},
     "output_type": "execute_result"
    }
   ],
   "source": [
    "test.isnull().sum()"
   ]
  },
  {
   "cell_type": "markdown",
   "metadata": {},
   "source": [
    "* There are no missing values in the test data."
   ]
  },
  {
   "cell_type": "code",
   "execution_count": 9,
   "metadata": {
    "scrolled": false
   },
   "outputs": [
    {
     "name": "stdout",
     "output_type": "stream",
     "text": [
      "Name : object\n",
      "Date of Birth : object\n",
      "From : object\n",
      "To : object\n",
      "Flight Date : object\n",
      "Flight Time : object\n",
      "Booking Date : object\n",
      "Class : object\n",
      "Fare : float64\n"
     ]
    }
   ],
   "source": [
    "for col in train.columns:\n",
    "    print(col,':',train[col].dtype)"
   ]
  },
  {
   "cell_type": "markdown",
   "metadata": {},
   "source": [
    "A few observations from the data provided:\n",
    "* Vital information such as the distance of the flight, age, gender of the passenger, time in advance the booking was done is not provided directly. Intuitively, these would affect the fares.\n",
    "* This info can be obtained by working with the data provided.\n",
    "* For example info like the Gender and title (Dr. could be representative of affluent people) can be extracted from 'Name'.\n",
    "* The data provided is clean, in the sense that there are no missing values and there are no mixed data types provided under any feature. "
   ]
  },
  {
   "cell_type": "markdown",
   "metadata": {},
   "source": [
    "### Gender and Title"
   ]
  },
  {
   "cell_type": "code",
   "execution_count": 10,
   "metadata": {
    "scrolled": true
   },
   "outputs": [
    {
     "data": {
      "text/html": [
       "<div>\n",
       "<style>\n",
       "    .dataframe thead tr:only-child th {\n",
       "        text-align: right;\n",
       "    }\n",
       "\n",
       "    .dataframe thead th {\n",
       "        text-align: left;\n",
       "    }\n",
       "\n",
       "    .dataframe tbody tr th {\n",
       "        vertical-align: top;\n",
       "    }\n",
       "</style>\n",
       "<table border=\"1\" class=\"dataframe\">\n",
       "  <thead>\n",
       "    <tr style=\"text-align: right;\">\n",
       "      <th></th>\n",
       "      <th>Name</th>\n",
       "      <th>Date of Birth</th>\n",
       "      <th>From</th>\n",
       "      <th>To</th>\n",
       "      <th>Flight Date</th>\n",
       "      <th>Flight Time</th>\n",
       "      <th>Booking Date</th>\n",
       "      <th>Class</th>\n",
       "      <th>Fare</th>\n",
       "      <th>Title</th>\n",
       "      <th>Gender</th>\n",
       "    </tr>\n",
       "  </thead>\n",
       "  <tbody>\n",
       "    <tr>\n",
       "      <th>0</th>\n",
       "      <td>Dr. FG61 FS88</td>\n",
       "      <td>1963-10-23</td>\n",
       "      <td>Mumbai</td>\n",
       "      <td>Kolkata</td>\n",
       "      <td>2016-11-04</td>\n",
       "      <td>13:50</td>\n",
       "      <td>2016-10-19</td>\n",
       "      <td>Business</td>\n",
       "      <td>14737.67</td>\n",
       "      <td>Dr.</td>\n",
       "      <td>F</td>\n",
       "    </tr>\n",
       "    <tr>\n",
       "      <th>1</th>\n",
       "      <td>Dr. FG35 FS74</td>\n",
       "      <td>1981-10-09</td>\n",
       "      <td>Lucknow</td>\n",
       "      <td>Hyderabad</td>\n",
       "      <td>2016-09-19</td>\n",
       "      <td>18:30</td>\n",
       "      <td>2016-07-31</td>\n",
       "      <td>Economy</td>\n",
       "      <td>7621.71</td>\n",
       "      <td>Dr.</td>\n",
       "      <td>F</td>\n",
       "    </tr>\n",
       "    <tr>\n",
       "      <th>2</th>\n",
       "      <td>Dr. MG45 MS99</td>\n",
       "      <td>1981-07-09</td>\n",
       "      <td>Lucknow</td>\n",
       "      <td>Patna</td>\n",
       "      <td>2016-05-27</td>\n",
       "      <td>10:50</td>\n",
       "      <td>2016-05-24</td>\n",
       "      <td>Economy</td>\n",
       "      <td>5655.81</td>\n",
       "      <td>Dr.</td>\n",
       "      <td>M</td>\n",
       "    </tr>\n",
       "  </tbody>\n",
       "</table>\n",
       "</div>"
      ],
      "text/plain": [
       "            Name Date of Birth     From         To Flight Date Flight Time  \\\n",
       "0  Dr. FG61 FS88    1963-10-23   Mumbai    Kolkata  2016-11-04       13:50   \n",
       "1  Dr. FG35 FS74    1981-10-09  Lucknow  Hyderabad  2016-09-19       18:30   \n",
       "2  Dr. MG45 MS99    1981-07-09  Lucknow      Patna  2016-05-27       10:50   \n",
       "\n",
       "  Booking Date     Class      Fare Title Gender  \n",
       "0   2016-10-19  Business  14737.67   Dr.      F  \n",
       "1   2016-07-31   Economy   7621.71   Dr.      F  \n",
       "2   2016-05-24   Economy   5655.81   Dr.      M  "
      ]
     },
     "execution_count": 10,
     "metadata": {},
     "output_type": "execute_result"
    }
   ],
   "source": [
    "# Extracting Gender and Title Information from the Name\n",
    "train['Title'] = train.apply(lambda row: row[0].split(\" \")[0], axis = 1)\n",
    "train['Gender'] = train.apply(lambda row: row[0].split(\" \")[1].split(\"G\")[0], axis = 1)\n",
    "\n",
    "test['Title'] = test.apply(lambda row: row[0].split(\" \")[0], axis = 1)\n",
    "test['Gender'] = test.apply(lambda row: row[0].split(\" \")[1].split(\"G\")[0], axis = 1)\n",
    "train.head(3)"
   ]
  },
  {
   "cell_type": "markdown",
   "metadata": {},
   "source": [
    "### Age"
   ]
  },
  {
   "cell_type": "markdown",
   "metadata": {},
   "source": [
    "Age is computed by subtracting the year of Date of Birth from the Booking Date. So the Age at time of booking is found."
   ]
  },
  {
   "cell_type": "code",
   "execution_count": 11,
   "metadata": {
    "scrolled": true
   },
   "outputs": [],
   "source": [
    "# Compute Age of the passenger at time of booking\n",
    "train['Age'] = train.apply(lambda row: int(row[6].split(\"-\")[0]) - int(row[1].split(\"-\")[0]), axis = 1)\n",
    "test['Age'] = test.apply(lambda row: int(row[6].split(\"-\")[0]) - int(row[1].split(\"-\")[0]), axis = 1)"
   ]
  },
  {
   "cell_type": "code",
   "execution_count": 12,
   "metadata": {},
   "outputs": [
    {
     "data": {
      "text/html": [
       "<div>\n",
       "<style>\n",
       "    .dataframe thead tr:only-child th {\n",
       "        text-align: right;\n",
       "    }\n",
       "\n",
       "    .dataframe thead th {\n",
       "        text-align: left;\n",
       "    }\n",
       "\n",
       "    .dataframe tbody tr th {\n",
       "        vertical-align: top;\n",
       "    }\n",
       "</style>\n",
       "<table border=\"1\" class=\"dataframe\">\n",
       "  <thead>\n",
       "    <tr style=\"text-align: right;\">\n",
       "      <th></th>\n",
       "      <th>Name</th>\n",
       "      <th>Date of Birth</th>\n",
       "      <th>From</th>\n",
       "      <th>To</th>\n",
       "      <th>Flight Date</th>\n",
       "      <th>Flight Time</th>\n",
       "      <th>Booking Date</th>\n",
       "      <th>Class</th>\n",
       "      <th>Fare</th>\n",
       "      <th>Title</th>\n",
       "      <th>Gender</th>\n",
       "      <th>Age</th>\n",
       "    </tr>\n",
       "  </thead>\n",
       "  <tbody>\n",
       "    <tr>\n",
       "      <th>0</th>\n",
       "      <td>Dr. FG61 FS88</td>\n",
       "      <td>1963-10-23</td>\n",
       "      <td>Mumbai</td>\n",
       "      <td>Kolkata</td>\n",
       "      <td>2016-11-04</td>\n",
       "      <td>13:50</td>\n",
       "      <td>2016-10-19</td>\n",
       "      <td>Business</td>\n",
       "      <td>14737.67</td>\n",
       "      <td>Dr.</td>\n",
       "      <td>F</td>\n",
       "      <td>53</td>\n",
       "    </tr>\n",
       "    <tr>\n",
       "      <th>1</th>\n",
       "      <td>Dr. FG35 FS74</td>\n",
       "      <td>1981-10-09</td>\n",
       "      <td>Lucknow</td>\n",
       "      <td>Hyderabad</td>\n",
       "      <td>2016-09-19</td>\n",
       "      <td>18:30</td>\n",
       "      <td>2016-07-31</td>\n",
       "      <td>Economy</td>\n",
       "      <td>7621.71</td>\n",
       "      <td>Dr.</td>\n",
       "      <td>F</td>\n",
       "      <td>35</td>\n",
       "    </tr>\n",
       "    <tr>\n",
       "      <th>2</th>\n",
       "      <td>Dr. MG45 MS99</td>\n",
       "      <td>1981-07-09</td>\n",
       "      <td>Lucknow</td>\n",
       "      <td>Patna</td>\n",
       "      <td>2016-05-27</td>\n",
       "      <td>10:50</td>\n",
       "      <td>2016-05-24</td>\n",
       "      <td>Economy</td>\n",
       "      <td>5655.81</td>\n",
       "      <td>Dr.</td>\n",
       "      <td>M</td>\n",
       "      <td>35</td>\n",
       "    </tr>\n",
       "  </tbody>\n",
       "</table>\n",
       "</div>"
      ],
      "text/plain": [
       "            Name Date of Birth     From         To Flight Date Flight Time  \\\n",
       "0  Dr. FG61 FS88    1963-10-23   Mumbai    Kolkata  2016-11-04       13:50   \n",
       "1  Dr. FG35 FS74    1981-10-09  Lucknow  Hyderabad  2016-09-19       18:30   \n",
       "2  Dr. MG45 MS99    1981-07-09  Lucknow      Patna  2016-05-27       10:50   \n",
       "\n",
       "  Booking Date     Class      Fare Title Gender  Age  \n",
       "0   2016-10-19  Business  14737.67   Dr.      F   53  \n",
       "1   2016-07-31   Economy   7621.71   Dr.      F   35  \n",
       "2   2016-05-24   Economy   5655.81   Dr.      M   35  "
      ]
     },
     "execution_count": 12,
     "metadata": {},
     "output_type": "execute_result"
    }
   ],
   "source": [
    "train.head(3)"
   ]
  },
  {
   "cell_type": "markdown",
   "metadata": {},
   "source": [
    "After computing the age, the Date of Birth feature has no more information. It is redundant."
   ]
  },
  {
   "cell_type": "code",
   "execution_count": 13,
   "metadata": {
    "collapsed": true
   },
   "outputs": [],
   "source": [
    "train.drop('Date of Birth', axis = 1, inplace = True)\n",
    "test.drop('Date of Birth', axis = 1, inplace = True)"
   ]
  },
  {
   "cell_type": "markdown",
   "metadata": {},
   "source": [
    "### From-To"
   ]
  },
  {
   "cell_type": "markdown",
   "metadata": {},
   "source": [
    "This is a feature that combines the source and destination of the flights. It is a substitute for the distance since distance is not provided in the dataset."
   ]
  },
  {
   "cell_type": "code",
   "execution_count": 14,
   "metadata": {
    "scrolled": true
   },
   "outputs": [],
   "source": [
    "# A feature combining cities the flight is between. It is a substitute for distance since distance is not provided.\n",
    "train['From-To'] = train.apply(lambda row: row[1]+'-'+row[2], axis = 1)\n",
    "test['From-To'] = test.apply(lambda row: row[1]+'-'+row[2], axis = 1)"
   ]
  },
  {
   "cell_type": "code",
   "execution_count": 15,
   "metadata": {},
   "outputs": [
    {
     "data": {
      "text/html": [
       "<div>\n",
       "<style>\n",
       "    .dataframe thead tr:only-child th {\n",
       "        text-align: right;\n",
       "    }\n",
       "\n",
       "    .dataframe thead th {\n",
       "        text-align: left;\n",
       "    }\n",
       "\n",
       "    .dataframe tbody tr th {\n",
       "        vertical-align: top;\n",
       "    }\n",
       "</style>\n",
       "<table border=\"1\" class=\"dataframe\">\n",
       "  <thead>\n",
       "    <tr style=\"text-align: right;\">\n",
       "      <th></th>\n",
       "      <th>Name</th>\n",
       "      <th>From</th>\n",
       "      <th>To</th>\n",
       "      <th>Flight Date</th>\n",
       "      <th>Flight Time</th>\n",
       "      <th>Booking Date</th>\n",
       "      <th>Class</th>\n",
       "      <th>Fare</th>\n",
       "      <th>Title</th>\n",
       "      <th>Gender</th>\n",
       "      <th>Age</th>\n",
       "      <th>From-To</th>\n",
       "    </tr>\n",
       "  </thead>\n",
       "  <tbody>\n",
       "    <tr>\n",
       "      <th>0</th>\n",
       "      <td>Dr. FG61 FS88</td>\n",
       "      <td>Mumbai</td>\n",
       "      <td>Kolkata</td>\n",
       "      <td>2016-11-04</td>\n",
       "      <td>13:50</td>\n",
       "      <td>2016-10-19</td>\n",
       "      <td>Business</td>\n",
       "      <td>14737.67</td>\n",
       "      <td>Dr.</td>\n",
       "      <td>F</td>\n",
       "      <td>53</td>\n",
       "      <td>Mumbai-Kolkata</td>\n",
       "    </tr>\n",
       "    <tr>\n",
       "      <th>1</th>\n",
       "      <td>Dr. FG35 FS74</td>\n",
       "      <td>Lucknow</td>\n",
       "      <td>Hyderabad</td>\n",
       "      <td>2016-09-19</td>\n",
       "      <td>18:30</td>\n",
       "      <td>2016-07-31</td>\n",
       "      <td>Economy</td>\n",
       "      <td>7621.71</td>\n",
       "      <td>Dr.</td>\n",
       "      <td>F</td>\n",
       "      <td>35</td>\n",
       "      <td>Lucknow-Hyderabad</td>\n",
       "    </tr>\n",
       "    <tr>\n",
       "      <th>2</th>\n",
       "      <td>Dr. MG45 MS99</td>\n",
       "      <td>Lucknow</td>\n",
       "      <td>Patna</td>\n",
       "      <td>2016-05-27</td>\n",
       "      <td>10:50</td>\n",
       "      <td>2016-05-24</td>\n",
       "      <td>Economy</td>\n",
       "      <td>5655.81</td>\n",
       "      <td>Dr.</td>\n",
       "      <td>M</td>\n",
       "      <td>35</td>\n",
       "      <td>Lucknow-Patna</td>\n",
       "    </tr>\n",
       "  </tbody>\n",
       "</table>\n",
       "</div>"
      ],
      "text/plain": [
       "            Name     From         To Flight Date Flight Time Booking Date  \\\n",
       "0  Dr. FG61 FS88   Mumbai    Kolkata  2016-11-04       13:50   2016-10-19   \n",
       "1  Dr. FG35 FS74  Lucknow  Hyderabad  2016-09-19       18:30   2016-07-31   \n",
       "2  Dr. MG45 MS99  Lucknow      Patna  2016-05-27       10:50   2016-05-24   \n",
       "\n",
       "      Class      Fare Title Gender  Age            From-To  \n",
       "0  Business  14737.67   Dr.      F   53     Mumbai-Kolkata  \n",
       "1   Economy   7621.71   Dr.      F   35  Lucknow-Hyderabad  \n",
       "2   Economy   5655.81   Dr.      M   35      Lucknow-Patna  "
      ]
     },
     "execution_count": 15,
     "metadata": {},
     "output_type": "execute_result"
    }
   ],
   "source": [
    "train.head(3)"
   ]
  },
  {
   "cell_type": "markdown",
   "metadata": {},
   "source": [
    "### Days to Journey"
   ]
  },
  {
   "cell_type": "markdown",
   "metadata": {},
   "source": [
    "This feature contains information about the days in advance the booking was done."
   ]
  },
  {
   "cell_type": "code",
   "execution_count": 16,
   "metadata": {
    "scrolled": true
   },
   "outputs": [],
   "source": [
    "# Time between the date of booking and the journey. (In days)\n",
    "train['Flight Date'] = pd.to_datetime(train['Flight Date'])\n",
    "train['Booking Date'] = pd.to_datetime(train['Booking Date'])\n",
    "train['Days to Journey'] = train.apply(lambda row: (row[3] - row[5]).days, axis = 1)\n",
    "\n",
    "test['Flight Date'] = pd.to_datetime(test['Flight Date'])\n",
    "test['Booking Date'] = pd.to_datetime(test['Booking Date'])\n",
    "test['Days to Journey'] = test.apply(lambda row: (row[3] - row[5]).days, axis = 1)"
   ]
  },
  {
   "cell_type": "markdown",
   "metadata": {},
   "source": [
    "### Hour"
   ]
  },
  {
   "cell_type": "markdown",
   "metadata": {},
   "source": [
    "This feature contains information about the hour at which the flight is scheduled. The minutes were removed and only hour was retained. ( In 24-hour system)"
   ]
  },
  {
   "cell_type": "code",
   "execution_count": 17,
   "metadata": {},
   "outputs": [],
   "source": [
    "# Retaining the hour component of the Flight Time.\n",
    "train['Hours'] = train.apply(lambda row: row[4].split(\":\")[0] , axis = 1)\n",
    "test['Hours'] = test.apply(lambda row: row[4].split(\":\")[0] , axis = 1)\n",
    "\n",
    "train.drop('Flight Time', axis = 1, inplace = True)\n",
    "test.drop('Flight Time', axis = 1, inplace = True)"
   ]
  },
  {
   "cell_type": "code",
   "execution_count": 18,
   "metadata": {},
   "outputs": [
    {
     "data": {
      "text/html": [
       "<div>\n",
       "<style>\n",
       "    .dataframe thead tr:only-child th {\n",
       "        text-align: right;\n",
       "    }\n",
       "\n",
       "    .dataframe thead th {\n",
       "        text-align: left;\n",
       "    }\n",
       "\n",
       "    .dataframe tbody tr th {\n",
       "        vertical-align: top;\n",
       "    }\n",
       "</style>\n",
       "<table border=\"1\" class=\"dataframe\">\n",
       "  <thead>\n",
       "    <tr style=\"text-align: right;\">\n",
       "      <th></th>\n",
       "      <th>Name</th>\n",
       "      <th>From</th>\n",
       "      <th>To</th>\n",
       "      <th>Flight Date</th>\n",
       "      <th>Booking Date</th>\n",
       "      <th>Class</th>\n",
       "      <th>Fare</th>\n",
       "      <th>Title</th>\n",
       "      <th>Gender</th>\n",
       "      <th>Age</th>\n",
       "      <th>From-To</th>\n",
       "      <th>Days to Journey</th>\n",
       "      <th>Hours</th>\n",
       "    </tr>\n",
       "  </thead>\n",
       "  <tbody>\n",
       "    <tr>\n",
       "      <th>0</th>\n",
       "      <td>Dr. FG61 FS88</td>\n",
       "      <td>Mumbai</td>\n",
       "      <td>Kolkata</td>\n",
       "      <td>2016-11-04</td>\n",
       "      <td>2016-10-19</td>\n",
       "      <td>Business</td>\n",
       "      <td>14737.67</td>\n",
       "      <td>Dr.</td>\n",
       "      <td>F</td>\n",
       "      <td>53</td>\n",
       "      <td>Mumbai-Kolkata</td>\n",
       "      <td>16</td>\n",
       "      <td>13</td>\n",
       "    </tr>\n",
       "    <tr>\n",
       "      <th>1</th>\n",
       "      <td>Dr. FG35 FS74</td>\n",
       "      <td>Lucknow</td>\n",
       "      <td>Hyderabad</td>\n",
       "      <td>2016-09-19</td>\n",
       "      <td>2016-07-31</td>\n",
       "      <td>Economy</td>\n",
       "      <td>7621.71</td>\n",
       "      <td>Dr.</td>\n",
       "      <td>F</td>\n",
       "      <td>35</td>\n",
       "      <td>Lucknow-Hyderabad</td>\n",
       "      <td>50</td>\n",
       "      <td>18</td>\n",
       "    </tr>\n",
       "    <tr>\n",
       "      <th>2</th>\n",
       "      <td>Dr. MG45 MS99</td>\n",
       "      <td>Lucknow</td>\n",
       "      <td>Patna</td>\n",
       "      <td>2016-05-27</td>\n",
       "      <td>2016-05-24</td>\n",
       "      <td>Economy</td>\n",
       "      <td>5655.81</td>\n",
       "      <td>Dr.</td>\n",
       "      <td>M</td>\n",
       "      <td>35</td>\n",
       "      <td>Lucknow-Patna</td>\n",
       "      <td>3</td>\n",
       "      <td>10</td>\n",
       "    </tr>\n",
       "  </tbody>\n",
       "</table>\n",
       "</div>"
      ],
      "text/plain": [
       "            Name     From         To Flight Date Booking Date     Class  \\\n",
       "0  Dr. FG61 FS88   Mumbai    Kolkata  2016-11-04   2016-10-19  Business   \n",
       "1  Dr. FG35 FS74  Lucknow  Hyderabad  2016-09-19   2016-07-31   Economy   \n",
       "2  Dr. MG45 MS99  Lucknow      Patna  2016-05-27   2016-05-24   Economy   \n",
       "\n",
       "       Fare Title Gender  Age            From-To  Days to Journey Hours  \n",
       "0  14737.67   Dr.      F   53     Mumbai-Kolkata               16    13  \n",
       "1   7621.71   Dr.      F   35  Lucknow-Hyderabad               50    18  \n",
       "2   5655.81   Dr.      M   35      Lucknow-Patna                3    10  "
      ]
     },
     "execution_count": 18,
     "metadata": {},
     "output_type": "execute_result"
    }
   ],
   "source": [
    "train.head(3)"
   ]
  },
  {
   "cell_type": "markdown",
   "metadata": {},
   "source": [
    "....."
   ]
  },
  {
   "cell_type": "markdown",
   "metadata": {},
   "source": [
    ".............."
   ]
  },
  {
   "cell_type": "markdown",
   "metadata": {},
   "source": [
    "........................"
   ]
  },
  {
   "cell_type": "markdown",
   "metadata": {},
   "source": [
    "## Inspecting the Variables"
   ]
  },
  {
   "cell_type": "code",
   "execution_count": 19,
   "metadata": {},
   "outputs": [
    {
     "data": {
      "text/html": [
       "<div>\n",
       "<style>\n",
       "    .dataframe thead tr:only-child th {\n",
       "        text-align: right;\n",
       "    }\n",
       "\n",
       "    .dataframe thead th {\n",
       "        text-align: left;\n",
       "    }\n",
       "\n",
       "    .dataframe tbody tr th {\n",
       "        vertical-align: top;\n",
       "    }\n",
       "</style>\n",
       "<table border=\"1\" class=\"dataframe\">\n",
       "  <thead>\n",
       "    <tr style=\"text-align: right;\">\n",
       "      <th></th>\n",
       "      <th>Fare</th>\n",
       "    </tr>\n",
       "    <tr>\n",
       "      <th>Class</th>\n",
       "      <th></th>\n",
       "    </tr>\n",
       "  </thead>\n",
       "  <tbody>\n",
       "    <tr>\n",
       "      <th>Business</th>\n",
       "      <td>15512.310308</td>\n",
       "    </tr>\n",
       "    <tr>\n",
       "      <th>Economy</th>\n",
       "      <td>6146.515520</td>\n",
       "    </tr>\n",
       "  </tbody>\n",
       "</table>\n",
       "</div>"
      ],
      "text/plain": [
       "                  Fare\n",
       "Class                 \n",
       "Business  15512.310308\n",
       "Economy    6146.515520"
      ]
     },
     "execution_count": 19,
     "metadata": {},
     "output_type": "execute_result"
    }
   ],
   "source": [
    "train.pivot_table(values = 'Fare', index = 'Class', aggfunc=np.mean)"
   ]
  },
  {
   "cell_type": "markdown",
   "metadata": {},
   "source": [
    "* This could be a very useful feature as it clearly distinguishes in the average fare of an Economy and Business class ticket.\n",
    "* Since this is a feature with only two possible values, it will be converted to a binary column."
   ]
  },
  {
   "cell_type": "code",
   "execution_count": 20,
   "metadata": {
    "collapsed": true
   },
   "outputs": [],
   "source": [
    "# Since 'Class' is a binary feature, will replace the classes with numerical values.\n",
    "train = train.replace(['Business', 'Economy'], [1, 0])\n",
    "test = test.replace(['Business', 'Economy'], [1, 0])"
   ]
  },
  {
   "cell_type": "code",
   "execution_count": 21,
   "metadata": {},
   "outputs": [
    {
     "data": {
      "text/html": [
       "<div>\n",
       "<style>\n",
       "    .dataframe thead tr:only-child th {\n",
       "        text-align: right;\n",
       "    }\n",
       "\n",
       "    .dataframe thead th {\n",
       "        text-align: left;\n",
       "    }\n",
       "\n",
       "    .dataframe tbody tr th {\n",
       "        vertical-align: top;\n",
       "    }\n",
       "</style>\n",
       "<table border=\"1\" class=\"dataframe\">\n",
       "  <thead>\n",
       "    <tr style=\"text-align: right;\">\n",
       "      <th></th>\n",
       "      <th>Name</th>\n",
       "      <th>From</th>\n",
       "      <th>To</th>\n",
       "      <th>Flight Date</th>\n",
       "      <th>Booking Date</th>\n",
       "      <th>Class</th>\n",
       "      <th>Fare</th>\n",
       "      <th>Title</th>\n",
       "      <th>Gender</th>\n",
       "      <th>Age</th>\n",
       "      <th>From-To</th>\n",
       "      <th>Days to Journey</th>\n",
       "      <th>Hours</th>\n",
       "    </tr>\n",
       "  </thead>\n",
       "  <tbody>\n",
       "    <tr>\n",
       "      <th>0</th>\n",
       "      <td>Dr. FG61 FS88</td>\n",
       "      <td>Mumbai</td>\n",
       "      <td>Kolkata</td>\n",
       "      <td>2016-11-04</td>\n",
       "      <td>2016-10-19</td>\n",
       "      <td>1</td>\n",
       "      <td>14737.67</td>\n",
       "      <td>Dr.</td>\n",
       "      <td>F</td>\n",
       "      <td>53</td>\n",
       "      <td>Mumbai-Kolkata</td>\n",
       "      <td>16</td>\n",
       "      <td>13</td>\n",
       "    </tr>\n",
       "    <tr>\n",
       "      <th>1</th>\n",
       "      <td>Dr. FG35 FS74</td>\n",
       "      <td>Lucknow</td>\n",
       "      <td>Hyderabad</td>\n",
       "      <td>2016-09-19</td>\n",
       "      <td>2016-07-31</td>\n",
       "      <td>0</td>\n",
       "      <td>7621.71</td>\n",
       "      <td>Dr.</td>\n",
       "      <td>F</td>\n",
       "      <td>35</td>\n",
       "      <td>Lucknow-Hyderabad</td>\n",
       "      <td>50</td>\n",
       "      <td>18</td>\n",
       "    </tr>\n",
       "    <tr>\n",
       "      <th>2</th>\n",
       "      <td>Dr. MG45 MS99</td>\n",
       "      <td>Lucknow</td>\n",
       "      <td>Patna</td>\n",
       "      <td>2016-05-27</td>\n",
       "      <td>2016-05-24</td>\n",
       "      <td>0</td>\n",
       "      <td>5655.81</td>\n",
       "      <td>Dr.</td>\n",
       "      <td>M</td>\n",
       "      <td>35</td>\n",
       "      <td>Lucknow-Patna</td>\n",
       "      <td>3</td>\n",
       "      <td>10</td>\n",
       "    </tr>\n",
       "  </tbody>\n",
       "</table>\n",
       "</div>"
      ],
      "text/plain": [
       "            Name     From         To Flight Date Booking Date  Class  \\\n",
       "0  Dr. FG61 FS88   Mumbai    Kolkata  2016-11-04   2016-10-19      1   \n",
       "1  Dr. FG35 FS74  Lucknow  Hyderabad  2016-09-19   2016-07-31      0   \n",
       "2  Dr. MG45 MS99  Lucknow      Patna  2016-05-27   2016-05-24      0   \n",
       "\n",
       "       Fare Title Gender  Age            From-To  Days to Journey Hours  \n",
       "0  14737.67   Dr.      F   53     Mumbai-Kolkata               16    13  \n",
       "1   7621.71   Dr.      F   35  Lucknow-Hyderabad               50    18  \n",
       "2   5655.81   Dr.      M   35      Lucknow-Patna                3    10  "
      ]
     },
     "execution_count": 21,
     "metadata": {},
     "output_type": "execute_result"
    }
   ],
   "source": [
    "train.head(3)"
   ]
  },
  {
   "cell_type": "markdown",
   "metadata": {},
   "source": [
    "......................."
   ]
  },
  {
   "cell_type": "code",
   "execution_count": 22,
   "metadata": {},
   "outputs": [
    {
     "data": {
      "text/html": [
       "<div>\n",
       "<style>\n",
       "    .dataframe thead tr:only-child th {\n",
       "        text-align: right;\n",
       "    }\n",
       "\n",
       "    .dataframe thead th {\n",
       "        text-align: left;\n",
       "    }\n",
       "\n",
       "    .dataframe tbody tr th {\n",
       "        vertical-align: top;\n",
       "    }\n",
       "</style>\n",
       "<table border=\"1\" class=\"dataframe\">\n",
       "  <thead>\n",
       "    <tr style=\"text-align: right;\">\n",
       "      <th></th>\n",
       "      <th>Fare</th>\n",
       "    </tr>\n",
       "    <tr>\n",
       "      <th>Hours</th>\n",
       "      <th></th>\n",
       "    </tr>\n",
       "  </thead>\n",
       "  <tbody>\n",
       "    <tr>\n",
       "      <th>00</th>\n",
       "      <td>8582.972557</td>\n",
       "    </tr>\n",
       "    <tr>\n",
       "      <th>01</th>\n",
       "      <td>8335.829349</td>\n",
       "    </tr>\n",
       "    <tr>\n",
       "      <th>02</th>\n",
       "      <td>8818.666301</td>\n",
       "    </tr>\n",
       "    <tr>\n",
       "      <th>03</th>\n",
       "      <td>8181.519581</td>\n",
       "    </tr>\n",
       "    <tr>\n",
       "      <th>04</th>\n",
       "      <td>8554.397044</td>\n",
       "    </tr>\n",
       "    <tr>\n",
       "      <th>05</th>\n",
       "      <td>8561.208280</td>\n",
       "    </tr>\n",
       "    <tr>\n",
       "      <th>06</th>\n",
       "      <td>7769.798471</td>\n",
       "    </tr>\n",
       "    <tr>\n",
       "      <th>07</th>\n",
       "      <td>8452.496771</td>\n",
       "    </tr>\n",
       "    <tr>\n",
       "      <th>08</th>\n",
       "      <td>8984.878076</td>\n",
       "    </tr>\n",
       "    <tr>\n",
       "      <th>09</th>\n",
       "      <td>9352.689937</td>\n",
       "    </tr>\n",
       "    <tr>\n",
       "      <th>10</th>\n",
       "      <td>8267.043780</td>\n",
       "    </tr>\n",
       "    <tr>\n",
       "      <th>11</th>\n",
       "      <td>8416.267604</td>\n",
       "    </tr>\n",
       "    <tr>\n",
       "      <th>12</th>\n",
       "      <td>8470.841345</td>\n",
       "    </tr>\n",
       "    <tr>\n",
       "      <th>13</th>\n",
       "      <td>8377.426569</td>\n",
       "    </tr>\n",
       "    <tr>\n",
       "      <th>14</th>\n",
       "      <td>8058.268359</td>\n",
       "    </tr>\n",
       "    <tr>\n",
       "      <th>15</th>\n",
       "      <td>8322.997878</td>\n",
       "    </tr>\n",
       "    <tr>\n",
       "      <th>16</th>\n",
       "      <td>7857.292359</td>\n",
       "    </tr>\n",
       "    <tr>\n",
       "      <th>17</th>\n",
       "      <td>8335.230599</td>\n",
       "    </tr>\n",
       "    <tr>\n",
       "      <th>18</th>\n",
       "      <td>8016.930677</td>\n",
       "    </tr>\n",
       "    <tr>\n",
       "      <th>19</th>\n",
       "      <td>8779.644636</td>\n",
       "    </tr>\n",
       "    <tr>\n",
       "      <th>20</th>\n",
       "      <td>9780.934471</td>\n",
       "    </tr>\n",
       "    <tr>\n",
       "      <th>21</th>\n",
       "      <td>10396.091557</td>\n",
       "    </tr>\n",
       "    <tr>\n",
       "      <th>22</th>\n",
       "      <td>8384.481412</td>\n",
       "    </tr>\n",
       "    <tr>\n",
       "      <th>23</th>\n",
       "      <td>8926.094586</td>\n",
       "    </tr>\n",
       "  </tbody>\n",
       "</table>\n",
       "</div>"
      ],
      "text/plain": [
       "               Fare\n",
       "Hours              \n",
       "00      8582.972557\n",
       "01      8335.829349\n",
       "02      8818.666301\n",
       "03      8181.519581\n",
       "04      8554.397044\n",
       "05      8561.208280\n",
       "06      7769.798471\n",
       "07      8452.496771\n",
       "08      8984.878076\n",
       "09      9352.689937\n",
       "10      8267.043780\n",
       "11      8416.267604\n",
       "12      8470.841345\n",
       "13      8377.426569\n",
       "14      8058.268359\n",
       "15      8322.997878\n",
       "16      7857.292359\n",
       "17      8335.230599\n",
       "18      8016.930677\n",
       "19      8779.644636\n",
       "20      9780.934471\n",
       "21     10396.091557\n",
       "22      8384.481412\n",
       "23      8926.094586"
      ]
     },
     "execution_count": 22,
     "metadata": {},
     "output_type": "execute_result"
    }
   ],
   "source": [
    "train.pivot_table(values = 'Fare', index = 'Hours', aggfunc=np.mean)"
   ]
  },
  {
   "cell_type": "markdown",
   "metadata": {},
   "source": [
    "* There is not a lot to infer from this pivot table. The hour feature does not explain the Fare in this format."
   ]
  },
  {
   "cell_type": "code",
   "execution_count": 23,
   "metadata": {
    "scrolled": true
   },
   "outputs": [
    {
     "data": {
      "image/png": "[encoded data removed]",
      "text/plain": [
       "<matplotlib.figure.Figure at 0x1e9939ac2b0>"
      ]
     },
     "metadata": {},
     "output_type": "display_data"
    }
   ],
   "source": [
    "plt.figure(figsize=(10,5))\n",
    "plt.plot(train.pivot_table(values = 'Fare', index = 'Hours', aggfunc=np.mean).values)\n",
    "plt.title('Fare Distribution with Flight Hour')\n",
    "plt.xlabel('Hour of Flight (24 hour system)')\n",
    "plt.ylabel('Mean Fare')\n",
    "plt.show()"
   ]
  },
  {
   "cell_type": "markdown",
   "metadata": {},
   "source": [
    "* The 'Hour' of flight data can be made better use of by seperating the peak hours.\n",
    "* This is done by creating bins for hours which have similar average fares. \n",
    "* The bins to be made have been identified from the plot and can be seen in the hour_bins function defined below."
   ]
  },
  {
   "cell_type": "code",
   "execution_count": 24,
   "metadata": {
    "collapsed": true
   },
   "outputs": [],
   "source": [
    "def hour_bins(hour):\n",
    "    '''Function to divide Flight Times into Windows based on observed average fares'''\n",
    "    if hour in ['00','01','02','03','04','05','06', '07']:\n",
    "        return '00-07'\n",
    "    elif hour in ['08','09']:\n",
    "        return '08-09'\n",
    "    elif hour in ['10','11','12','13','14','15','16','17','18']:\n",
    "        return '10-18'\n",
    "    elif hour in ['19','20','21','22','23']:\n",
    "        return '19-23'"
   ]
  },
  {
   "cell_type": "code",
   "execution_count": 25,
   "metadata": {
    "collapsed": true
   },
   "outputs": [],
   "source": [
    "# Creating bins for hour of flight.\n",
    "train['Hour'] = train.apply(lambda row: hour_bins(row[12]), axis = 1)\n",
    "test['Hour'] = test.apply(lambda row: hour_bins(row[11]), axis = 1)"
   ]
  },
  {
   "cell_type": "code",
   "execution_count": 26,
   "metadata": {},
   "outputs": [
    {
     "data": {
      "text/html": [
       "<div>\n",
       "<style>\n",
       "    .dataframe thead tr:only-child th {\n",
       "        text-align: right;\n",
       "    }\n",
       "\n",
       "    .dataframe thead th {\n",
       "        text-align: left;\n",
       "    }\n",
       "\n",
       "    .dataframe tbody tr th {\n",
       "        vertical-align: top;\n",
       "    }\n",
       "</style>\n",
       "<table border=\"1\" class=\"dataframe\">\n",
       "  <thead>\n",
       "    <tr style=\"text-align: right;\">\n",
       "      <th></th>\n",
       "      <th>Fare</th>\n",
       "    </tr>\n",
       "    <tr>\n",
       "      <th>Hour</th>\n",
       "      <th></th>\n",
       "    </tr>\n",
       "  </thead>\n",
       "  <tbody>\n",
       "    <tr>\n",
       "      <th>00-07</th>\n",
       "      <td>8408.515392</td>\n",
       "    </tr>\n",
       "    <tr>\n",
       "      <th>08-09</th>\n",
       "      <td>9162.116722</td>\n",
       "    </tr>\n",
       "    <tr>\n",
       "      <th>10-18</th>\n",
       "      <td>8210.568992</td>\n",
       "    </tr>\n",
       "    <tr>\n",
       "      <th>19-23</th>\n",
       "      <td>9242.031446</td>\n",
       "    </tr>\n",
       "  </tbody>\n",
       "</table>\n",
       "</div>"
      ],
      "text/plain": [
       "              Fare\n",
       "Hour              \n",
       "00-07  8408.515392\n",
       "08-09  9162.116722\n",
       "10-18  8210.568992\n",
       "19-23  9242.031446"
      ]
     },
     "execution_count": 26,
     "metadata": {},
     "output_type": "execute_result"
    }
   ],
   "source": [
    "train.pivot_table(values = 'Fare', index = 'Hour', aggfunc = np.mean)"
   ]
  },
  {
   "cell_type": "markdown",
   "metadata": {},
   "source": [
    "* Here we can see a better variance in the average fares with respect to flight hour.\n",
    "* Hence will drop the 'Hours' feature"
   ]
  },
  {
   "cell_type": "code",
   "execution_count": 27,
   "metadata": {
    "collapsed": true
   },
   "outputs": [],
   "source": [
    "train.drop('Hours', axis = 1, inplace = True)\n",
    "test.drop('Hours', axis = 1, inplace = True)"
   ]
  },
  {
   "cell_type": "markdown",
   "metadata": {},
   "source": [
    "......................................."
   ]
  },
  {
   "cell_type": "code",
   "execution_count": 28,
   "metadata": {},
   "outputs": [
    {
     "data": {
      "text/html": [
       "<div>\n",
       "<style>\n",
       "    .dataframe thead tr:only-child th {\n",
       "        text-align: right;\n",
       "    }\n",
       "\n",
       "    .dataframe thead th {\n",
       "        text-align: left;\n",
       "    }\n",
       "\n",
       "    .dataframe tbody tr th {\n",
       "        vertical-align: top;\n",
       "    }\n",
       "</style>\n",
       "<table border=\"1\" class=\"dataframe\">\n",
       "  <thead>\n",
       "    <tr style=\"text-align: right;\">\n",
       "      <th></th>\n",
       "      <th>Fare</th>\n",
       "    </tr>\n",
       "    <tr>\n",
       "      <th>Title</th>\n",
       "      <th></th>\n",
       "    </tr>\n",
       "  </thead>\n",
       "  <tbody>\n",
       "    <tr>\n",
       "      <th>Dr.</th>\n",
       "      <td>10808.869488</td>\n",
       "    </tr>\n",
       "    <tr>\n",
       "      <th>Miss</th>\n",
       "      <td>6549.360172</td>\n",
       "    </tr>\n",
       "    <tr>\n",
       "      <th>Mr.</th>\n",
       "      <td>6862.627500</td>\n",
       "    </tr>\n",
       "    <tr>\n",
       "      <th>Mrs.</th>\n",
       "      <td>7285.904559</td>\n",
       "    </tr>\n",
       "  </tbody>\n",
       "</table>\n",
       "</div>"
      ],
      "text/plain": [
       "               Fare\n",
       "Title              \n",
       "Dr.    10808.869488\n",
       "Miss    6549.360172\n",
       "Mr.     6862.627500\n",
       "Mrs.    7285.904559"
      ]
     },
     "execution_count": 28,
     "metadata": {},
     "output_type": "execute_result"
    }
   ],
   "source": [
    "train.pivot_table(values = 'Fare', index = 'Title', aggfunc=np.mean)"
   ]
  },
  {
   "cell_type": "markdown",
   "metadata": {},
   "source": [
    "* We observe that generally, Dr.'s pay (don't mind paying) a higher fare.\n",
    "* We will leave this feature like this since it explains the 'Fare' well."
   ]
  },
  {
   "cell_type": "markdown",
   "metadata": {},
   "source": [
    "..........................."
   ]
  },
  {
   "cell_type": "code",
   "execution_count": 29,
   "metadata": {},
   "outputs": [
    {
     "data": {
      "text/html": [
       "<div>\n",
       "<style>\n",
       "    .dataframe thead tr:only-child th {\n",
       "        text-align: right;\n",
       "    }\n",
       "\n",
       "    .dataframe thead th {\n",
       "        text-align: left;\n",
       "    }\n",
       "\n",
       "    .dataframe tbody tr th {\n",
       "        vertical-align: top;\n",
       "    }\n",
       "</style>\n",
       "<table border=\"1\" class=\"dataframe\">\n",
       "  <thead>\n",
       "    <tr style=\"text-align: right;\">\n",
       "      <th></th>\n",
       "      <th>Fare</th>\n",
       "    </tr>\n",
       "    <tr>\n",
       "      <th>Gender</th>\n",
       "      <th></th>\n",
       "    </tr>\n",
       "  </thead>\n",
       "  <tbody>\n",
       "    <tr>\n",
       "      <th>F</th>\n",
       "      <td>8269.375797</td>\n",
       "    </tr>\n",
       "    <tr>\n",
       "      <th>M</th>\n",
       "      <td>8800.645896</td>\n",
       "    </tr>\n",
       "  </tbody>\n",
       "</table>\n",
       "</div>"
      ],
      "text/plain": [
       "               Fare\n",
       "Gender             \n",
       "F       8269.375797\n",
       "M       8800.645896"
      ]
     },
     "execution_count": 29,
     "metadata": {},
     "output_type": "execute_result"
    }
   ],
   "source": [
    "train.pivot_table(values = 'Fare', index = 'Gender', aggfunc=np.mean)"
   ]
  },
  {
   "cell_type": "markdown",
   "metadata": {},
   "source": [
    "* Gender can take only two possible values (inferred from the data) and hence will convert to a binary feature."
   ]
  },
  {
   "cell_type": "code",
   "execution_count": 30,
   "metadata": {
    "collapsed": true
   },
   "outputs": [],
   "source": [
    "train = train.replace(['M', 'F'], [1, 0])\n",
    "test = test.replace(['M', 'F'], [1, 0])"
   ]
  },
  {
   "cell_type": "markdown",
   "metadata": {},
   "source": [
    "### Correlations"
   ]
  },
  {
   "cell_type": "code",
   "execution_count": 31,
   "metadata": {},
   "outputs": [
    {
     "data": {
      "text/html": [
       "<div>\n",
       "<style>\n",
       "    .dataframe thead tr:only-child th {\n",
       "        text-align: right;\n",
       "    }\n",
       "\n",
       "    .dataframe thead th {\n",
       "        text-align: left;\n",
       "    }\n",
       "\n",
       "    .dataframe tbody tr th {\n",
       "        vertical-align: top;\n",
       "    }\n",
       "</style>\n",
       "<table border=\"1\" class=\"dataframe\">\n",
       "  <thead>\n",
       "    <tr style=\"text-align: right;\">\n",
       "      <th></th>\n",
       "      <th>Fare</th>\n",
       "      <th>Age</th>\n",
       "      <th>Days to Journey</th>\n",
       "    </tr>\n",
       "  </thead>\n",
       "  <tbody>\n",
       "    <tr>\n",
       "      <th>Fare</th>\n",
       "      <td>1.000000</td>\n",
       "      <td>0.105489</td>\n",
       "      <td>-0.210873</td>\n",
       "    </tr>\n",
       "    <tr>\n",
       "      <th>Age</th>\n",
       "      <td>0.105489</td>\n",
       "      <td>1.000000</td>\n",
       "      <td>0.010337</td>\n",
       "    </tr>\n",
       "    <tr>\n",
       "      <th>Days to Journey</th>\n",
       "      <td>-0.210873</td>\n",
       "      <td>0.010337</td>\n",
       "      <td>1.000000</td>\n",
       "    </tr>\n",
       "  </tbody>\n",
       "</table>\n",
       "</div>"
      ],
      "text/plain": [
       "                     Fare       Age  Days to Journey\n",
       "Fare             1.000000  0.105489        -0.210873\n",
       "Age              0.105489  1.000000         0.010337\n",
       "Days to Journey -0.210873  0.010337         1.000000"
      ]
     },
     "execution_count": 31,
     "metadata": {},
     "output_type": "execute_result"
    }
   ],
   "source": [
    "train.drop(['Class', 'Gender'], axis = 1).corr()"
   ]
  },
  {
   "cell_type": "markdown",
   "metadata": {},
   "source": [
    "* There are no strong correlations among the variables indicating the absence of any **linear relations** between the numerical features.\n",
    "* However we can infer that an increase the duration between booking and journey decreases the fare, which is what we expect."
   ]
  },
  {
   "cell_type": "markdown",
   "metadata": {},
   "source": [
    "...................."
   ]
  },
  {
   "cell_type": "markdown",
   "metadata": {},
   "source": [
    "Age is a continuos variable and clearly there is almost no correlation between age and the fare as seen above. We will try to   extract more information from this feature."
   ]
  },
  {
   "cell_type": "code",
   "execution_count": 32,
   "metadata": {
    "collapsed": true
   },
   "outputs": [],
   "source": [
    "age_table = train.pivot_table(index = 'Age', values = 'Fare', aggfunc=np.mean)"
   ]
  },
  {
   "cell_type": "code",
   "execution_count": 33,
   "metadata": {
    "scrolled": false
   },
   "outputs": [
    {
     "data": {
      "image/png": "[encoded data removed]",
      "text/plain": [
       "<matplotlib.figure.Figure at 0x1e993c842b0>"
      ]
     },
     "metadata": {},
     "output_type": "display_data"
    }
   ],
   "source": [
    "plt.figure(figsize=(10,5))\n",
    "plt.plot(np.arange(10,82),age_table.values)\n",
    "plt.title('Fare Distribution With Age')\n",
    "plt.xlabel('Age (yrs)')\n",
    "plt.ylabel('Mean Fare')\n",
    "plt.show()"
   ]
  },
  {
   "cell_type": "markdown",
   "metadata": {},
   "source": [
    "* The first point (corresponding to age 10 yrs) is an anomaly.\n",
    "* There is no clear trend. However, the plot does not have any sharp increases or decreases. If we consider small intervals and average the fare in that region, we will get a reasonable estimate of the fare for a particular age group.\n",
    "* Here, we have decided to divide age into 10 year intervals starting from (10-19yrs)."
   ]
  },
  {
   "cell_type": "code",
   "execution_count": 34,
   "metadata": {},
   "outputs": [
    {
     "data": {
      "text/html": [
       "<div>\n",
       "<style>\n",
       "    .dataframe thead tr:only-child th {\n",
       "        text-align: right;\n",
       "    }\n",
       "\n",
       "    .dataframe thead th {\n",
       "        text-align: left;\n",
       "    }\n",
       "\n",
       "    .dataframe tbody tr th {\n",
       "        vertical-align: top;\n",
       "    }\n",
       "</style>\n",
       "<table border=\"1\" class=\"dataframe\">\n",
       "  <thead>\n",
       "    <tr style=\"text-align: right;\">\n",
       "      <th></th>\n",
       "      <th>Name</th>\n",
       "      <th>From</th>\n",
       "      <th>To</th>\n",
       "      <th>Flight Date</th>\n",
       "      <th>Booking Date</th>\n",
       "      <th>Class</th>\n",
       "      <th>Fare</th>\n",
       "      <th>Title</th>\n",
       "      <th>Gender</th>\n",
       "      <th>Age</th>\n",
       "      <th>From-To</th>\n",
       "      <th>Days to Journey</th>\n",
       "      <th>Hour</th>\n",
       "      <th>Age_bin</th>\n",
       "    </tr>\n",
       "  </thead>\n",
       "  <tbody>\n",
       "    <tr>\n",
       "      <th>0</th>\n",
       "      <td>Dr. FG61 FS88</td>\n",
       "      <td>Mumbai</td>\n",
       "      <td>Kolkata</td>\n",
       "      <td>2016-11-04</td>\n",
       "      <td>2016-10-19</td>\n",
       "      <td>1</td>\n",
       "      <td>14737.67</td>\n",
       "      <td>Dr.</td>\n",
       "      <td>0</td>\n",
       "      <td>53</td>\n",
       "      <td>Mumbai-Kolkata</td>\n",
       "      <td>16</td>\n",
       "      <td>10-18</td>\n",
       "      <td>50-59</td>\n",
       "    </tr>\n",
       "    <tr>\n",
       "      <th>1</th>\n",
       "      <td>Dr. FG35 FS74</td>\n",
       "      <td>Lucknow</td>\n",
       "      <td>Hyderabad</td>\n",
       "      <td>2016-09-19</td>\n",
       "      <td>2016-07-31</td>\n",
       "      <td>0</td>\n",
       "      <td>7621.71</td>\n",
       "      <td>Dr.</td>\n",
       "      <td>0</td>\n",
       "      <td>35</td>\n",
       "      <td>Lucknow-Hyderabad</td>\n",
       "      <td>50</td>\n",
       "      <td>10-18</td>\n",
       "      <td>30-39</td>\n",
       "    </tr>\n",
       "    <tr>\n",
       "      <th>2</th>\n",
       "      <td>Dr. MG45 MS99</td>\n",
       "      <td>Lucknow</td>\n",
       "      <td>Patna</td>\n",
       "      <td>2016-05-27</td>\n",
       "      <td>2016-05-24</td>\n",
       "      <td>0</td>\n",
       "      <td>5655.81</td>\n",
       "      <td>Dr.</td>\n",
       "      <td>1</td>\n",
       "      <td>35</td>\n",
       "      <td>Lucknow-Patna</td>\n",
       "      <td>3</td>\n",
       "      <td>10-18</td>\n",
       "      <td>30-39</td>\n",
       "    </tr>\n",
       "  </tbody>\n",
       "</table>\n",
       "</div>"
      ],
      "text/plain": [
       "            Name     From         To Flight Date Booking Date  Class  \\\n",
       "0  Dr. FG61 FS88   Mumbai    Kolkata  2016-11-04   2016-10-19      1   \n",
       "1  Dr. FG35 FS74  Lucknow  Hyderabad  2016-09-19   2016-07-31      0   \n",
       "2  Dr. MG45 MS99  Lucknow      Patna  2016-05-27   2016-05-24      0   \n",
       "\n",
       "       Fare Title  Gender  Age            From-To  Days to Journey   Hour  \\\n",
       "0  14737.67   Dr.       0   53     Mumbai-Kolkata               16  10-18   \n",
       "1   7621.71   Dr.       0   35  Lucknow-Hyderabad               50  10-18   \n",
       "2   5655.81   Dr.       1   35      Lucknow-Patna                3  10-18   \n",
       "\n",
       "  Age_bin  \n",
       "0   50-59  \n",
       "1   30-39  \n",
       "2   30-39  "
      ]
     },
     "execution_count": 34,
     "metadata": {},
     "output_type": "execute_result"
    }
   ],
   "source": [
    "# Creating 10 year bins for age.\n",
    "train['Age_bin'] = train.apply(lambda row: str(int(row[9]/10)*10) +'-'+str(int(row[9]/10)*10 + 9)\\\n",
    "                               , axis = 1)\n",
    "\n",
    "test['Age_bin'] = test.apply(lambda row: str(int(row[8]/10)*10) +'-'+str(int(row[8]/10)*10 + 9)\\\n",
    "                               , axis = 1)\n",
    "train.head(3)"
   ]
  },
  {
   "cell_type": "code",
   "execution_count": 35,
   "metadata": {},
   "outputs": [
    {
     "data": {
      "text/html": [
       "<div>\n",
       "<style>\n",
       "    .dataframe thead tr:only-child th {\n",
       "        text-align: right;\n",
       "    }\n",
       "\n",
       "    .dataframe thead th {\n",
       "        text-align: left;\n",
       "    }\n",
       "\n",
       "    .dataframe tbody tr th {\n",
       "        vertical-align: top;\n",
       "    }\n",
       "</style>\n",
       "<table border=\"1\" class=\"dataframe\">\n",
       "  <thead>\n",
       "    <tr style=\"text-align: right;\">\n",
       "      <th></th>\n",
       "      <th>Fare</th>\n",
       "    </tr>\n",
       "    <tr>\n",
       "      <th>Age_bin</th>\n",
       "      <th></th>\n",
       "    </tr>\n",
       "  </thead>\n",
       "  <tbody>\n",
       "    <tr>\n",
       "      <th>10-19</th>\n",
       "      <td>6009.717471</td>\n",
       "    </tr>\n",
       "    <tr>\n",
       "      <th>20-29</th>\n",
       "      <td>6679.785179</td>\n",
       "    </tr>\n",
       "    <tr>\n",
       "      <th>30-39</th>\n",
       "      <td>9020.559052</td>\n",
       "    </tr>\n",
       "    <tr>\n",
       "      <th>40-49</th>\n",
       "      <td>10396.943256</td>\n",
       "    </tr>\n",
       "    <tr>\n",
       "      <th>50-59</th>\n",
       "      <td>8586.590561</td>\n",
       "    </tr>\n",
       "    <tr>\n",
       "      <th>60-69</th>\n",
       "      <td>8355.987782</td>\n",
       "    </tr>\n",
       "    <tr>\n",
       "      <th>70-79</th>\n",
       "      <td>9216.429006</td>\n",
       "    </tr>\n",
       "    <tr>\n",
       "      <th>80-89</th>\n",
       "      <td>9804.168241</td>\n",
       "    </tr>\n",
       "  </tbody>\n",
       "</table>\n",
       "</div>"
      ],
      "text/plain": [
       "                 Fare\n",
       "Age_bin              \n",
       "10-19     6009.717471\n",
       "20-29     6679.785179\n",
       "30-39     9020.559052\n",
       "40-49    10396.943256\n",
       "50-59     8586.590561\n",
       "60-69     8355.987782\n",
       "70-79     9216.429006\n",
       "80-89     9804.168241"
      ]
     },
     "execution_count": 35,
     "metadata": {},
     "output_type": "execute_result"
    }
   ],
   "source": [
    "train.pivot_table(values = 'Fare', index = 'Age_bin', aggfunc=np.mean)"
   ]
  },
  {
   "cell_type": "markdown",
   "metadata": {},
   "source": [
    "* We see that binning the age helps in explaining the data better. So, we will keep the Age_bin as a categorical feature."
   ]
  },
  {
   "cell_type": "markdown",
   "metadata": {},
   "source": [
    "..............................................."
   ]
  },
  {
   "cell_type": "code",
   "execution_count": 36,
   "metadata": {
    "scrolled": true
   },
   "outputs": [
    {
     "data": {
      "text/html": [
       "<div>\n",
       "<style>\n",
       "    .dataframe thead tr:only-child th {\n",
       "        text-align: right;\n",
       "    }\n",
       "\n",
       "    .dataframe thead th {\n",
       "        text-align: left;\n",
       "    }\n",
       "\n",
       "    .dataframe tbody tr th {\n",
       "        vertical-align: top;\n",
       "    }\n",
       "</style>\n",
       "<table border=\"1\" class=\"dataframe\">\n",
       "  <thead>\n",
       "    <tr style=\"text-align: right;\">\n",
       "      <th></th>\n",
       "      <th>Fare</th>\n",
       "    </tr>\n",
       "    <tr>\n",
       "      <th>From-To</th>\n",
       "      <th></th>\n",
       "    </tr>\n",
       "  </thead>\n",
       "  <tbody>\n",
       "    <tr>\n",
       "      <th>Chennai-Delhi</th>\n",
       "      <td>13126.233963</td>\n",
       "    </tr>\n",
       "    <tr>\n",
       "      <th>Chennai-Hyderabad</th>\n",
       "      <td>3940.181447</td>\n",
       "    </tr>\n",
       "    <tr>\n",
       "      <th>Chennai-Kolkata</th>\n",
       "      <td>8317.503469</td>\n",
       "    </tr>\n",
       "    <tr>\n",
       "      <th>Chennai-Lucknow</th>\n",
       "      <td>14953.544068</td>\n",
       "    </tr>\n",
       "    <tr>\n",
       "      <th>Chennai-Mumbai</th>\n",
       "      <td>8835.886464</td>\n",
       "    </tr>\n",
       "    <tr>\n",
       "      <th>Chennai-Patna</th>\n",
       "      <td>15362.816429</td>\n",
       "    </tr>\n",
       "    <tr>\n",
       "      <th>Delhi-Chennai</th>\n",
       "      <td>11822.794815</td>\n",
       "    </tr>\n",
       "    <tr>\n",
       "      <th>Delhi-Hyderabad</th>\n",
       "      <td>11822.770213</td>\n",
       "    </tr>\n",
       "    <tr>\n",
       "      <th>Delhi-Kolkata</th>\n",
       "      <td>6390.889253</td>\n",
       "    </tr>\n",
       "    <tr>\n",
       "      <th>Delhi-Lucknow</th>\n",
       "      <td>4440.549942</td>\n",
       "    </tr>\n",
       "    <tr>\n",
       "      <th>Delhi-Mumbai</th>\n",
       "      <td>6660.626991</td>\n",
       "    </tr>\n",
       "    <tr>\n",
       "      <th>Delhi-Patna</th>\n",
       "      <td>6523.309608</td>\n",
       "    </tr>\n",
       "    <tr>\n",
       "      <th>Hyderabad-Chennai</th>\n",
       "      <td>4386.407692</td>\n",
       "    </tr>\n",
       "    <tr>\n",
       "      <th>Hyderabad-Delhi</th>\n",
       "      <td>12479.733737</td>\n",
       "    </tr>\n",
       "    <tr>\n",
       "      <th>Hyderabad-Kolkata</th>\n",
       "      <td>6809.509677</td>\n",
       "    </tr>\n",
       "    <tr>\n",
       "      <th>Hyderabad-Lucknow</th>\n",
       "      <td>11231.438079</td>\n",
       "    </tr>\n",
       "    <tr>\n",
       "      <th>Hyderabad-Mumbai</th>\n",
       "      <td>9771.509390</td>\n",
       "    </tr>\n",
       "    <tr>\n",
       "      <th>Hyderabad-Patna</th>\n",
       "      <td>11104.133711</td>\n",
       "    </tr>\n",
       "    <tr>\n",
       "      <th>Kolkata-Chennai</th>\n",
       "      <td>7981.787294</td>\n",
       "    </tr>\n",
       "    <tr>\n",
       "      <th>Kolkata-Delhi</th>\n",
       "      <td>6335.813780</td>\n",
       "    </tr>\n",
       "    <tr>\n",
       "      <th>Kolkata-Hyderabad</th>\n",
       "      <td>7355.618409</td>\n",
       "    </tr>\n",
       "    <tr>\n",
       "      <th>Kolkata-Lucknow</th>\n",
       "      <td>8242.004431</td>\n",
       "    </tr>\n",
       "    <tr>\n",
       "      <th>Kolkata-Mumbai</th>\n",
       "      <td>8454.284000</td>\n",
       "    </tr>\n",
       "    <tr>\n",
       "      <th>Kolkata-Patna</th>\n",
       "      <td>6830.555514</td>\n",
       "    </tr>\n",
       "    <tr>\n",
       "      <th>Lucknow-Chennai</th>\n",
       "      <td>15260.309840</td>\n",
       "    </tr>\n",
       "    <tr>\n",
       "      <th>Lucknow-Delhi</th>\n",
       "      <td>4071.270352</td>\n",
       "    </tr>\n",
       "    <tr>\n",
       "      <th>Lucknow-Hyderabad</th>\n",
       "      <td>10806.113000</td>\n",
       "    </tr>\n",
       "    <tr>\n",
       "      <th>Lucknow-Kolkata</th>\n",
       "      <td>8132.443399</td>\n",
       "    </tr>\n",
       "    <tr>\n",
       "      <th>Lucknow-Mumbai</th>\n",
       "      <td>8634.582997</td>\n",
       "    </tr>\n",
       "    <tr>\n",
       "      <th>Lucknow-Patna</th>\n",
       "      <td>4070.461788</td>\n",
       "    </tr>\n",
       "    <tr>\n",
       "      <th>Mumbai-Chennai</th>\n",
       "      <td>8488.653721</td>\n",
       "    </tr>\n",
       "    <tr>\n",
       "      <th>Mumbai-Delhi</th>\n",
       "      <td>6736.495500</td>\n",
       "    </tr>\n",
       "    <tr>\n",
       "      <th>Mumbai-Hyderabad</th>\n",
       "      <td>9567.202229</td>\n",
       "    </tr>\n",
       "    <tr>\n",
       "      <th>Mumbai-Kolkata</th>\n",
       "      <td>8810.197667</td>\n",
       "    </tr>\n",
       "    <tr>\n",
       "      <th>Mumbai-Lucknow</th>\n",
       "      <td>8782.362247</td>\n",
       "    </tr>\n",
       "    <tr>\n",
       "      <th>Mumbai-Patna</th>\n",
       "      <td>10324.411818</td>\n",
       "    </tr>\n",
       "    <tr>\n",
       "      <th>Patna-Chennai</th>\n",
       "      <td>17373.973529</td>\n",
       "    </tr>\n",
       "    <tr>\n",
       "      <th>Patna-Delhi</th>\n",
       "      <td>6455.178166</td>\n",
       "    </tr>\n",
       "    <tr>\n",
       "      <th>Patna-Hyderabad</th>\n",
       "      <td>9728.784125</td>\n",
       "    </tr>\n",
       "    <tr>\n",
       "      <th>Patna-Kolkata</th>\n",
       "      <td>5767.607917</td>\n",
       "    </tr>\n",
       "    <tr>\n",
       "      <th>Patna-Lucknow</th>\n",
       "      <td>4356.967665</td>\n",
       "    </tr>\n",
       "    <tr>\n",
       "      <th>Patna-Mumbai</th>\n",
       "      <td>10490.632304</td>\n",
       "    </tr>\n",
       "  </tbody>\n",
       "</table>\n",
       "</div>"
      ],
      "text/plain": [
       "                           Fare\n",
       "From-To                        \n",
       "Chennai-Delhi      13126.233963\n",
       "Chennai-Hyderabad   3940.181447\n",
       "Chennai-Kolkata     8317.503469\n",
       "Chennai-Lucknow    14953.544068\n",
       "Chennai-Mumbai      8835.886464\n",
       "Chennai-Patna      15362.816429\n",
       "Delhi-Chennai      11822.794815\n",
       "Delhi-Hyderabad    11822.770213\n",
       "Delhi-Kolkata       6390.889253\n",
       "Delhi-Lucknow       4440.549942\n",
       "Delhi-Mumbai        6660.626991\n",
       "Delhi-Patna         6523.309608\n",
       "Hyderabad-Chennai   4386.407692\n",
       "Hyderabad-Delhi    12479.733737\n",
       "Hyderabad-Kolkata   6809.509677\n",
       "Hyderabad-Lucknow  11231.438079\n",
       "Hyderabad-Mumbai    9771.509390\n",
       "Hyderabad-Patna    11104.133711\n",
       "Kolkata-Chennai     7981.787294\n",
       "Kolkata-Delhi       6335.813780\n",
       "Kolkata-Hyderabad   7355.618409\n",
       "Kolkata-Lucknow     8242.004431\n",
       "Kolkata-Mumbai      8454.284000\n",
       "Kolkata-Patna       6830.555514\n",
       "Lucknow-Chennai    15260.309840\n",
       "Lucknow-Delhi       4071.270352\n",
       "Lucknow-Hyderabad  10806.113000\n",
       "Lucknow-Kolkata     8132.443399\n",
       "Lucknow-Mumbai      8634.582997\n",
       "Lucknow-Patna       4070.461788\n",
       "Mumbai-Chennai      8488.653721\n",
       "Mumbai-Delhi        6736.495500\n",
       "Mumbai-Hyderabad    9567.202229\n",
       "Mumbai-Kolkata      8810.197667\n",
       "Mumbai-Lucknow      8782.362247\n",
       "Mumbai-Patna       10324.411818\n",
       "Patna-Chennai      17373.973529\n",
       "Patna-Delhi         6455.178166\n",
       "Patna-Hyderabad     9728.784125\n",
       "Patna-Kolkata       5767.607917\n",
       "Patna-Lucknow       4356.967665\n",
       "Patna-Mumbai       10490.632304"
      ]
     },
     "execution_count": 36,
     "metadata": {},
     "output_type": "execute_result"
    }
   ],
   "source": [
    "train.pivot_table(values = 'Fare', index = 'From-To', aggfunc=np.mean)"
   ]
  },
  {
   "cell_type": "markdown",
   "metadata": {},
   "source": [
    "* We see a pretty good variance of fares in the From-To feature. Hence we will keep this feature."
   ]
  },
  {
   "cell_type": "markdown",
   "metadata": {},
   "source": [
    "................................."
   ]
  },
  {
   "cell_type": "raw",
   "metadata": {},
   "source": [
    "store_i, num_count = [], []\n",
    "for i in range(len(train)):\n",
    "    f_date = train.iloc[i]['Flight Date']\n",
    "    b_date = train.iloc[i]['Booking Date']\n",
    "    f_time = train.iloc[i]['Flight Time']\n",
    "    f_to = train.iloc[i]['From-To']\n",
    "    numb = len(train[train['Flight Date'] == f_date][train['Booking Date'] == b_date][train['Flight Time'] == f_time]\\\n",
    "              [train['From-To'] == f_to])\n",
    "    if numb > 1:\n",
    "        store_i.append(i)\n",
    "        num_count.append(numb)\n",
    "        print(numb)"
   ]
  },
  {
   "cell_type": "markdown",
   "metadata": {},
   "source": [
    "#### THE ABOVE CELL WAS USED TO FIND OUT IF THERE ARE PEOPLE TRAVELLING TOGETHER IN THE DATA. NO GROUPS WERE FOUND. THE CODE WAS MADE INACTIVE SINCE IT TAKES A LONG TIME TO RUN. IT CAN STILL BE RUN BY CONVERTING THE CELL TO 'CODE'"
   ]
  },
  {
   "cell_type": "code",
   "execution_count": 37,
   "metadata": {},
   "outputs": [],
   "source": [
    "# Dropping Unnecessary Features\n",
    "train.drop(['Age','Flight Date', 'Booking Date', 'Name'], axis = 1, inplace = True)\n",
    "test.drop(['Age', 'Flight Date', 'Booking Date', 'Name'], axis = 1, inplace = True)"
   ]
  },
  {
   "cell_type": "markdown",
   "metadata": {},
   "source": [
    "..............................."
   ]
  },
  {
   "cell_type": "markdown",
   "metadata": {},
   "source": [
    "..................................................."
   ]
  },
  {
   "cell_type": "markdown",
   "metadata": {},
   "source": [
    "................................................................."
   ]
  },
  {
   "cell_type": "code",
   "execution_count": 38,
   "metadata": {
    "collapsed": true
   },
   "outputs": [],
   "source": [
    "train = train.astype({'From':'category', 'To':'category', 'Title':'category',\\\n",
    "                        'From-To':'category', 'Hour':'category', 'Age_bin':'category'})\n",
    "\n",
    "test = test.astype({'From':'category', 'To':'category', 'Title':'category',\\\n",
    "                       'From-To':'category', 'Hour':'category', 'Age_bin':'category'})"
   ]
  },
  {
   "cell_type": "code",
   "execution_count": 39,
   "metadata": {},
   "outputs": [],
   "source": [
    "# Preparing data to be fed to a predictive model\n",
    "train_Y = train['Fare']\n",
    "train_X = train.drop('Fare', axis = 1)\n",
    "test_X = test"
   ]
  },
  {
   "cell_type": "markdown",
   "metadata": {},
   "source": [
    "## Cross Validation"
   ]
  },
  {
   "cell_type": "markdown",
   "metadata": {},
   "source": [
    "* The absence of any correlation between the numerical variables rules out the possibility of using a linear model.\n",
    "* The data mostly consists of categorical features. We observed that the categories in the features contain information about the Fare from the Pivot tables drawn earlier. \n",
    "* So we will use tree based classifiers, namely the Random Forest Regressor and the Gradient Boosting Regressor.\n",
    "* We will identify the best model among these two and tune the hyper-parameters to maximise the R2 score on Cross Validation.\n",
    "* Then the identified model and hyper parameters will be used to make the final predictions."
   ]
  },
  {
   "cell_type": "code",
   "execution_count": 40,
   "metadata": {
    "collapsed": true
   },
   "outputs": [],
   "source": [
    "from sklearn.model_selection import train_test_split\n",
    "from sklearn.metrics import r2_score"
   ]
  },
  {
   "cell_type": "code",
   "execution_count": 41,
   "metadata": {},
   "outputs": [
    {
     "name": "stderr",
     "output_type": "stream",
     "text": [
      "C:\\Program Files\\Anaconda3\\envs\\py35\\lib\\site-packages\\sklearn\\ensemble\\weight_boosting.py:29: DeprecationWarning: numpy.core.umath_tests is an internal NumPy module and should not be imported. It will be removed in a future NumPy release.\n",
      "  from numpy.core.umath_tests import inner1d\n"
     ]
    }
   ],
   "source": [
    "from sklearn.ensemble import RandomForestRegressor\n",
    "from sklearn.ensemble import GradientBoostingRegressor"
   ]
  },
  {
   "cell_type": "markdown",
   "metadata": {},
   "source": [
    "* The cross validation datasets are created by randomly sampling the training datasets.\n",
    "* The random_state has been set to replicate results over multiple runs."
   ]
  },
  {
   "cell_type": "code",
   "execution_count": 42,
   "metadata": {
    "collapsed": true
   },
   "outputs": [],
   "source": [
    "CVtrain_X, CVtest_X, CVtrain_Y, CVtest_Y = train_test_split(train_X, train_Y, test_size = 0.2, \n",
    "                                                           random_state = 42)\n",
    "CVtrain_X, CVtest_X = pd.get_dummies(CVtrain_X), pd.get_dummies(CVtest_X)"
   ]
  },
  {
   "cell_type": "code",
   "execution_count": 43,
   "metadata": {
    "collapsed": true
   },
   "outputs": [],
   "source": [
    "def evaluate_models(number_of_est, maximum_depth, models, train_X, test_X):    \n",
    "    '''Function to evaluate the performance of a tree based model (based on R2 score), over a grid of\n",
    "        number of estimators and maximum depth. Function takes in choice of model, array of n_estimators, \n",
    "        array of max_depth and training and testing sets'''\n",
    "    for model_choice in models:\n",
    "        for n_est in number_of_est:\n",
    "            for max_d in maximum_depth:\n",
    "                model = model_choice(n_estimators=n_est, max_depth=max_d, random_state = 42)\n",
    "                model.fit(train_X, CVtrain_Y)\n",
    "                CVpred = model.predict(test_X)\n",
    "\n",
    "                r2 = r2_score(CVtest_Y, CVpred)\n",
    "                print(model_choice,',Estimators:',n_est,',Max_Depth:',max_d,',R2:', r2)"
   ]
  },
  {
   "cell_type": "code",
   "execution_count": 44,
   "metadata": {},
   "outputs": [
    {
     "name": "stdout",
     "output_type": "stream",
     "text": [
      "<class 'sklearn.ensemble.forest.RandomForestRegressor'> ,Estimators: 20 ,Max_Depth: 5 ,R2: 0.6175037721138807\n",
      "<class 'sklearn.ensemble.forest.RandomForestRegressor'> ,Estimators: 20 ,Max_Depth: 10 ,R2: 0.737175585792021\n",
      "<class 'sklearn.ensemble.forest.RandomForestRegressor'> ,Estimators: 20 ,Max_Depth: 15 ,R2: 0.7752732609899174\n",
      "<class 'sklearn.ensemble.forest.RandomForestRegressor'> ,Estimators: 20 ,Max_Depth: 20 ,R2: 0.7918603551862671\n",
      "<class 'sklearn.ensemble.forest.RandomForestRegressor'> ,Estimators: 20 ,Max_Depth: 25 ,R2: 0.7914300666284275\n",
      "<class 'sklearn.ensemble.forest.RandomForestRegressor'> ,Estimators: 30 ,Max_Depth: 5 ,R2: 0.6213119493645932\n",
      "<class 'sklearn.ensemble.forest.RandomForestRegressor'> ,Estimators: 30 ,Max_Depth: 10 ,R2: 0.7430858706318666\n",
      "<class 'sklearn.ensemble.forest.RandomForestRegressor'> ,Estimators: 30 ,Max_Depth: 15 ,R2: 0.7816427394123021\n",
      "<class 'sklearn.ensemble.forest.RandomForestRegressor'> ,Estimators: 30 ,Max_Depth: 20 ,R2: 0.7977413838764924\n",
      "<class 'sklearn.ensemble.forest.RandomForestRegressor'> ,Estimators: 30 ,Max_Depth: 25 ,R2: 0.7947190110672511\n",
      "<class 'sklearn.ensemble.forest.RandomForestRegressor'> ,Estimators: 40 ,Max_Depth: 5 ,R2: 0.623479312665379\n",
      "<class 'sklearn.ensemble.forest.RandomForestRegressor'> ,Estimators: 40 ,Max_Depth: 10 ,R2: 0.7430397391149115\n",
      "<class 'sklearn.ensemble.forest.RandomForestRegressor'> ,Estimators: 40 ,Max_Depth: 15 ,R2: 0.7821941824055806\n",
      "<class 'sklearn.ensemble.forest.RandomForestRegressor'> ,Estimators: 40 ,Max_Depth: 20 ,R2: 0.7950925758894938\n",
      "<class 'sklearn.ensemble.forest.RandomForestRegressor'> ,Estimators: 40 ,Max_Depth: 25 ,R2: 0.7932216198850363\n",
      "<class 'sklearn.ensemble.forest.RandomForestRegressor'> ,Estimators: 50 ,Max_Depth: 5 ,R2: 0.6238047512630314\n",
      "<class 'sklearn.ensemble.forest.RandomForestRegressor'> ,Estimators: 50 ,Max_Depth: 10 ,R2: 0.7456164282844826\n",
      "<class 'sklearn.ensemble.forest.RandomForestRegressor'> ,Estimators: 50 ,Max_Depth: 15 ,R2: 0.7843906622849072\n",
      "<class 'sklearn.ensemble.forest.RandomForestRegressor'> ,Estimators: 50 ,Max_Depth: 20 ,R2: 0.795462263352942\n",
      "<class 'sklearn.ensemble.forest.RandomForestRegressor'> ,Estimators: 50 ,Max_Depth: 25 ,R2: 0.7952649050157032\n",
      "<class 'sklearn.ensemble.forest.RandomForestRegressor'> ,Estimators: 60 ,Max_Depth: 5 ,R2: 0.6228206556621103\n",
      "<class 'sklearn.ensemble.forest.RandomForestRegressor'> ,Estimators: 60 ,Max_Depth: 10 ,R2: 0.7457378205586321\n",
      "<class 'sklearn.ensemble.forest.RandomForestRegressor'> ,Estimators: 60 ,Max_Depth: 15 ,R2: 0.7851592236012185\n",
      "<class 'sklearn.ensemble.forest.RandomForestRegressor'> ,Estimators: 60 ,Max_Depth: 20 ,R2: 0.7960253014430255\n",
      "<class 'sklearn.ensemble.forest.RandomForestRegressor'> ,Estimators: 60 ,Max_Depth: 25 ,R2: 0.7958531982495289\n",
      "<class 'sklearn.ensemble.gradient_boosting.GradientBoostingRegressor'> ,Estimators: 20 ,Max_Depth: 5 ,R2: 0.657798264835755\n",
      "<class 'sklearn.ensemble.gradient_boosting.GradientBoostingRegressor'> ,Estimators: 20 ,Max_Depth: 10 ,R2: 0.7662032385734191\n",
      "<class 'sklearn.ensemble.gradient_boosting.GradientBoostingRegressor'> ,Estimators: 20 ,Max_Depth: 15 ,R2: 0.7709700849662908\n",
      "<class 'sklearn.ensemble.gradient_boosting.GradientBoostingRegressor'> ,Estimators: 20 ,Max_Depth: 20 ,R2: 0.7516974087006882\n",
      "<class 'sklearn.ensemble.gradient_boosting.GradientBoostingRegressor'> ,Estimators: 20 ,Max_Depth: 25 ,R2: 0.7411375994891815\n",
      "<class 'sklearn.ensemble.gradient_boosting.GradientBoostingRegressor'> ,Estimators: 30 ,Max_Depth: 5 ,R2: 0.7174637274436909\n",
      "<class 'sklearn.ensemble.gradient_boosting.GradientBoostingRegressor'> ,Estimators: 30 ,Max_Depth: 10 ,R2: 0.8005408384150575\n",
      "<class 'sklearn.ensemble.gradient_boosting.GradientBoostingRegressor'> ,Estimators: 30 ,Max_Depth: 15 ,R2: 0.7870620469939601\n",
      "<class 'sklearn.ensemble.gradient_boosting.GradientBoostingRegressor'> ,Estimators: 30 ,Max_Depth: 20 ,R2: 0.762967060059522\n",
      "<class 'sklearn.ensemble.gradient_boosting.GradientBoostingRegressor'> ,Estimators: 30 ,Max_Depth: 25 ,R2: 0.7469833731672044\n",
      "<class 'sklearn.ensemble.gradient_boosting.GradientBoostingRegressor'> ,Estimators: 40 ,Max_Depth: 5 ,R2: 0.7538465714090729\n",
      "<class 'sklearn.ensemble.gradient_boosting.GradientBoostingRegressor'> ,Estimators: 40 ,Max_Depth: 10 ,R2: 0.8105539257785161\n",
      "<class 'sklearn.ensemble.gradient_boosting.GradientBoostingRegressor'> ,Estimators: 40 ,Max_Depth: 15 ,R2: 0.7908925357869838\n",
      "<class 'sklearn.ensemble.gradient_boosting.GradientBoostingRegressor'> ,Estimators: 40 ,Max_Depth: 20 ,R2: 0.764222108391716\n",
      "<class 'sklearn.ensemble.gradient_boosting.GradientBoostingRegressor'> ,Estimators: 40 ,Max_Depth: 25 ,R2: 0.7472764951531441\n",
      "<class 'sklearn.ensemble.gradient_boosting.GradientBoostingRegressor'> ,Estimators: 50 ,Max_Depth: 5 ,R2: 0.7748425601066065\n",
      "<class 'sklearn.ensemble.gradient_boosting.GradientBoostingRegressor'> ,Estimators: 50 ,Max_Depth: 10 ,R2: 0.8148459201865803\n",
      "<class 'sklearn.ensemble.gradient_boosting.GradientBoostingRegressor'> ,Estimators: 50 ,Max_Depth: 15 ,R2: 0.7912879348257026\n",
      "<class 'sklearn.ensemble.gradient_boosting.GradientBoostingRegressor'> ,Estimators: 50 ,Max_Depth: 20 ,R2: 0.7646483562676174\n",
      "<class 'sklearn.ensemble.gradient_boosting.GradientBoostingRegressor'> ,Estimators: 50 ,Max_Depth: 25 ,R2: 0.7471964313289374\n",
      "<class 'sklearn.ensemble.gradient_boosting.GradientBoostingRegressor'> ,Estimators: 60 ,Max_Depth: 5 ,R2: 0.7900426149432658\n",
      "<class 'sklearn.ensemble.gradient_boosting.GradientBoostingRegressor'> ,Estimators: 60 ,Max_Depth: 10 ,R2: 0.8174074432317988\n",
      "<class 'sklearn.ensemble.gradient_boosting.GradientBoostingRegressor'> ,Estimators: 60 ,Max_Depth: 15 ,R2: 0.7913083528008585\n",
      "<class 'sklearn.ensemble.gradient_boosting.GradientBoostingRegressor'> ,Estimators: 60 ,Max_Depth: 20 ,R2: 0.7647935743219767\n",
      "<class 'sklearn.ensemble.gradient_boosting.GradientBoostingRegressor'> ,Estimators: 60 ,Max_Depth: 25 ,R2: 0.7470867490658308\n"
     ]
    }
   ],
   "source": [
    "models = [RandomForestRegressor, GradientBoostingRegressor]\n",
    "number_of_est = [20, 30, 40, 50, 60]\n",
    "maximum_depth = [5, 10, 15, 20, 25]\n",
    "evaluate_models(number_of_est, maximum_depth, models, CVtrain_X, CVtest_X)"
   ]
  },
  {
   "cell_type": "markdown",
   "metadata": {},
   "source": [
    "** We see that the Gradient Boosting Regressor obtains higher scores than the Random Forest Regressor. Hence we will choose the GBRegressor and tune the hyper parameters to maximise the R2 score.**"
   ]
  },
  {
   "cell_type": "code",
   "execution_count": 45,
   "metadata": {},
   "outputs": [
    {
     "name": "stdout",
     "output_type": "stream",
     "text": [
      "<class 'sklearn.ensemble.gradient_boosting.GradientBoostingRegressor'> ,Estimators: 65 ,Max_Depth: 8 ,R2: 0.8236299912189717\n",
      "<class 'sklearn.ensemble.gradient_boosting.GradientBoostingRegressor'> ,Estimators: 65 ,Max_Depth: 10 ,R2: 0.8182945488292872\n",
      "<class 'sklearn.ensemble.gradient_boosting.GradientBoostingRegressor'> ,Estimators: 70 ,Max_Depth: 8 ,R2: 0.8249347779051557\n",
      "<class 'sklearn.ensemble.gradient_boosting.GradientBoostingRegressor'> ,Estimators: 70 ,Max_Depth: 10 ,R2: 0.8190101345833212\n",
      "<class 'sklearn.ensemble.gradient_boosting.GradientBoostingRegressor'> ,Estimators: 75 ,Max_Depth: 8 ,R2: 0.8259107619844608\n",
      "<class 'sklearn.ensemble.gradient_boosting.GradientBoostingRegressor'> ,Estimators: 75 ,Max_Depth: 10 ,R2: 0.8191072779387691\n"
     ]
    }
   ],
   "source": [
    "number_of_est = [65,70,75]\n",
    "maximum_depth = [8,10]\n",
    "models = [GradientBoostingRegressor]\n",
    "evaluate_models(number_of_est, maximum_depth, models, CVtrain_X, CVtest_X)"
   ]
  },
  {
   "cell_type": "markdown",
   "metadata": {},
   "source": [
    "** Max_depth of 8 gets the highest scores consistently and is also increasing with number of estimators. Hence we will limit our max_depth to 8 and keep searching for the ideal number of estimators.**"
   ]
  },
  {
   "cell_type": "code",
   "execution_count": 46,
   "metadata": {},
   "outputs": [
    {
     "name": "stdout",
     "output_type": "stream",
     "text": [
      "<class 'sklearn.ensemble.gradient_boosting.GradientBoostingRegressor'> ,Estimators: 80 ,Max_Depth: 8 ,R2: 0.8266502634204327\n",
      "<class 'sklearn.ensemble.gradient_boosting.GradientBoostingRegressor'> ,Estimators: 90 ,Max_Depth: 8 ,R2: 0.8280096429159756\n",
      "<class 'sklearn.ensemble.gradient_boosting.GradientBoostingRegressor'> ,Estimators: 100 ,Max_Depth: 8 ,R2: 0.8284453754424691\n",
      "<class 'sklearn.ensemble.gradient_boosting.GradientBoostingRegressor'> ,Estimators: 110 ,Max_Depth: 8 ,R2: 0.8286342635246974\n",
      "<class 'sklearn.ensemble.gradient_boosting.GradientBoostingRegressor'> ,Estimators: 120 ,Max_Depth: 8 ,R2: 0.8285463094496172\n",
      "<class 'sklearn.ensemble.gradient_boosting.GradientBoostingRegressor'> ,Estimators: 130 ,Max_Depth: 8 ,R2: 0.8286207943291359\n",
      "<class 'sklearn.ensemble.gradient_boosting.GradientBoostingRegressor'> ,Estimators: 140 ,Max_Depth: 8 ,R2: 0.828215056703738\n"
     ]
    }
   ],
   "source": [
    "number_of_est = [80, 90, 100, 110, 120, 130, 140]\n",
    "maximum_depth = [8]\n",
    "models = [GradientBoostingRegressor]\n",
    "evaluate_models(number_of_est, maximum_depth, models, CVtrain_X, CVtest_X)"
   ]
  },
  {
   "cell_type": "code",
   "execution_count": 47,
   "metadata": {},
   "outputs": [
    {
     "name": "stdout",
     "output_type": "stream",
     "text": [
      "<class 'sklearn.ensemble.gradient_boosting.GradientBoostingRegressor'> ,Estimators: 105 ,Max_Depth: 8 ,R2: 0.8286125233758286\n"
     ]
    }
   ],
   "source": [
    "number_of_est = [105]\n",
    "maximum_depth = [8]\n",
    "models = [GradientBoostingRegressor]\n",
    "evaluate_models(number_of_est, maximum_depth, models, CVtrain_X, CVtest_X)"
   ]
  },
  {
   "cell_type": "markdown",
   "metadata": {},
   "source": [
    "**110 estimators obtains the highest R2 CV score. Hence we will use n_estimators = 110 and max_depth = 8 for our final model**"
   ]
  },
  {
   "cell_type": "code",
   "execution_count": 48,
   "metadata": {
    "collapsed": true
   },
   "outputs": [],
   "source": [
    "model = GradientBoostingRegressor(n_estimators=110, max_depth=8, random_state=42)\n",
    "model.fit(CVtrain_X, CVtrain_Y)\n",
    "CVpred = model.predict(CVtest_X)\n",
    "r2 = r2_score(CVtest_Y, CVpred)\n",
    "feature_importances = pd.DataFrame(model.feature_importances_,\n",
    "                                   index = CVtrain_X.columns,\n",
    "                                    columns=['importance']).sort_values('importance',ascending=False)"
   ]
  },
  {
   "cell_type": "code",
   "execution_count": 49,
   "metadata": {},
   "outputs": [
    {
     "data": {
      "text/plain": [
       "0.8286342635246974"
      ]
     },
     "execution_count": 49,
     "metadata": {},
     "output_type": "execute_result"
    }
   ],
   "source": [
    "r2"
   ]
  },
  {
   "cell_type": "markdown",
   "metadata": {},
   "source": [
    "** R2 CV score - 0.8286**"
   ]
  },
  {
   "cell_type": "code",
   "execution_count": 50,
   "metadata": {
    "scrolled": true
   },
   "outputs": [
    {
     "data": {
      "text/html": [
       "<div>\n",
       "<style>\n",
       "    .dataframe thead tr:only-child th {\n",
       "        text-align: right;\n",
       "    }\n",
       "\n",
       "    .dataframe thead th {\n",
       "        text-align: left;\n",
       "    }\n",
       "\n",
       "    .dataframe tbody tr th {\n",
       "        vertical-align: top;\n",
       "    }\n",
       "</style>\n",
       "<table border=\"1\" class=\"dataframe\">\n",
       "  <thead>\n",
       "    <tr style=\"text-align: right;\">\n",
       "      <th></th>\n",
       "      <th>importance</th>\n",
       "    </tr>\n",
       "  </thead>\n",
       "  <tbody>\n",
       "    <tr>\n",
       "      <th>Days to Journey</th>\n",
       "      <td>0.219333</td>\n",
       "    </tr>\n",
       "    <tr>\n",
       "      <th>Class</th>\n",
       "      <td>0.160542</td>\n",
       "    </tr>\n",
       "    <tr>\n",
       "      <th>Title_Dr.</th>\n",
       "      <td>0.050888</td>\n",
       "    </tr>\n",
       "    <tr>\n",
       "      <th>Gender</th>\n",
       "      <td>0.022710</td>\n",
       "    </tr>\n",
       "    <tr>\n",
       "      <th>Age_bin_40-49</th>\n",
       "      <td>0.022341</td>\n",
       "    </tr>\n",
       "    <tr>\n",
       "      <th>Age_bin_30-39</th>\n",
       "      <td>0.021766</td>\n",
       "    </tr>\n",
       "    <tr>\n",
       "      <th>Age_bin_70-79</th>\n",
       "      <td>0.019343</td>\n",
       "    </tr>\n",
       "    <tr>\n",
       "      <th>Age_bin_60-69</th>\n",
       "      <td>0.018905</td>\n",
       "    </tr>\n",
       "    <tr>\n",
       "      <th>Hour_19-23</th>\n",
       "      <td>0.017259</td>\n",
       "    </tr>\n",
       "    <tr>\n",
       "      <th>Hour_10-18</th>\n",
       "      <td>0.015815</td>\n",
       "    </tr>\n",
       "    <tr>\n",
       "      <th>Age_bin_50-59</th>\n",
       "      <td>0.015371</td>\n",
       "    </tr>\n",
       "    <tr>\n",
       "      <th>To_Chennai</th>\n",
       "      <td>0.014283</td>\n",
       "    </tr>\n",
       "    <tr>\n",
       "      <th>Hour_08-09</th>\n",
       "      <td>0.013917</td>\n",
       "    </tr>\n",
       "    <tr>\n",
       "      <th>From_Delhi</th>\n",
       "      <td>0.013889</td>\n",
       "    </tr>\n",
       "    <tr>\n",
       "      <th>From-To_Patna-Lucknow</th>\n",
       "      <td>0.012948</td>\n",
       "    </tr>\n",
       "    <tr>\n",
       "      <th>Hour_00-07</th>\n",
       "      <td>0.012337</td>\n",
       "    </tr>\n",
       "    <tr>\n",
       "      <th>From-To_Lucknow-Patna</th>\n",
       "      <td>0.012082</td>\n",
       "    </tr>\n",
       "    <tr>\n",
       "      <th>From-To_Hyderabad-Delhi</th>\n",
       "      <td>0.011687</td>\n",
       "    </tr>\n",
       "    <tr>\n",
       "      <th>From-To_Chennai-Lucknow</th>\n",
       "      <td>0.011522</td>\n",
       "    </tr>\n",
       "    <tr>\n",
       "      <th>From-To_Hyderabad-Chennai</th>\n",
       "      <td>0.011376</td>\n",
       "    </tr>\n",
       "  </tbody>\n",
       "</table>\n",
       "</div>"
      ],
      "text/plain": [
       "                           importance\n",
       "Days to Journey              0.219333\n",
       "Class                        0.160542\n",
       "Title_Dr.                    0.050888\n",
       "Gender                       0.022710\n",
       "Age_bin_40-49                0.022341\n",
       "Age_bin_30-39                0.021766\n",
       "Age_bin_70-79                0.019343\n",
       "Age_bin_60-69                0.018905\n",
       "Hour_19-23                   0.017259\n",
       "Hour_10-18                   0.015815\n",
       "Age_bin_50-59                0.015371\n",
       "To_Chennai                   0.014283\n",
       "Hour_08-09                   0.013917\n",
       "From_Delhi                   0.013889\n",
       "From-To_Patna-Lucknow        0.012948\n",
       "Hour_00-07                   0.012337\n",
       "From-To_Lucknow-Patna        0.012082\n",
       "From-To_Hyderabad-Delhi      0.011687\n",
       "From-To_Chennai-Lucknow      0.011522\n",
       "From-To_Hyderabad-Chennai    0.011376"
      ]
     },
     "execution_count": 50,
     "metadata": {},
     "output_type": "execute_result"
    }
   ],
   "source": [
    "feature_importances.head(20)"
   ]
  },
  {
   "cell_type": "code",
   "execution_count": 57,
   "metadata": {},
   "outputs": [
    {
     "data": {
      "image/png": "[encoded data removed]",
      "text/plain": [
       "<matplotlib.figure.Figure at 0x1e99644a748>"
      ]
     },
     "metadata": {},
     "output_type": "display_data"
    }
   ],
   "source": [
    "feature_importances.iloc[:15,:].plot.bar()\n",
    "plt.ylabel('Importance')\n",
    "plt.title('Feature Importance Plot')\n",
    "plt.show()"
   ]
  },
  {
   "cell_type": "markdown",
   "metadata": {},
   "source": [
    "* According to our model, the Days to Journey is the most important feature. This is logical."
   ]
  },
  {
   "cell_type": "markdown",
   "metadata": {},
   "source": [
    "# Predictions"
   ]
  },
  {
   "cell_type": "code",
   "execution_count": 51,
   "metadata": {},
   "outputs": [
    {
     "data": {
      "text/plain": [
       "array([ 1956.58112122,  3087.80361623, 12192.94087532, ...,\n",
       "        6575.20601561,  8650.86555394, 10719.94805594])"
      ]
     },
     "execution_count": 51,
     "metadata": {},
     "output_type": "execute_result"
    }
   ],
   "source": [
    "train_X, test_X = pd.get_dummies(train_X), pd.get_dummies(test_X)\n",
    "fin_model = GradientBoostingRegressor(n_estimators=105, max_depth=8)\n",
    "fin_model.fit(train_X, train_Y)\n",
    "Predictions = fin_model.predict(test_X)\n",
    "\n",
    "Predictions"
   ]
  }
 ],
 "metadata": {
  "kernelspec": {
   "display_name": "Python 3",
   "language": "python",
   "name": "python3"
  },
  "language_info": {
   "codemirror_mode": {
    "name": "ipython",
    "version": 3
   },
   "file_extension": ".py",
   "mimetype": "text/x-python",
   "name": "python",
   "nbconvert_exporter": "python",
   "pygments_lexer": "ipython3",
   "version": "3.7.4"
  }
 },
 "nbformat": 4,
 "nbformat_minor": 2
}
